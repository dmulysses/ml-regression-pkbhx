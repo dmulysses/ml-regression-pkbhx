{
 "cells": [
  {
   "attachments": {},
   "cell_type": "markdown",
   "metadata": {},
   "source": [
    "# 1. Preparing Tool Box"
   ]
  },
  {
   "cell_type": "code",
   "execution_count": 2,
   "metadata": {},
   "outputs": [
    {
     "name": "stdout",
     "output_type": "stream",
     "text": [
      "\\pkbhx\\data\\pkbhx.csv\n"
     ]
    }
   ],
   "source": [
    "import os\n",
    "for dirname, _, filenames in os.walk('\\pkbhx\\data'):\n",
    "    for filename in filenames:\n",
    "        print(os.path.join(dirname, filename))"
   ]
  },
  {
   "cell_type": "code",
   "execution_count": 107,
   "metadata": {},
   "outputs": [],
   "source": [
    "from rdkit import Chem\n",
    "from rdkit.Chem import Descriptors\n",
    "from rdkit.ML.Descriptors import MoleculeDescriptors\n",
    "from scipy.stats import normaltest, skew\n",
    "from sklearn.model_selection import GridSearchCV, train_test_split\n",
    "from sklearn.dummy import DummyRegressor\n",
    "from sklearn.ensemble import RandomForestRegressor\n",
    "from sklearn.impute import SimpleImputer\n",
    "from sklearn.metrics import make_scorer, mean_absolute_error, mean_squared_error, r2_score\n",
    "from sklearn.neighbors import KNeighborsRegressor\n",
    "from sklearn.pipeline import Pipeline\n",
    "from sklearn.preprocessing import StandardScaler\n",
    "from sklearn.svm import SVR\n",
    "from tpot import TPOTRegressor\n",
    "\n",
    "import lightgbm as lgb\n",
    "import matplotlib.pyplot as plt\n",
    "import numpy as np\n",
    "import pandas as pd\n",
    "import seaborn as sns"
   ]
  },
  {
   "attachments": {},
   "cell_type": "markdown",
   "metadata": {},
   "source": [
    "# 2. Reading the Data"
   ]
  },
  {
   "cell_type": "code",
   "execution_count": 4,
   "metadata": {},
   "outputs": [],
   "source": [
    "# Create a DataFrame\n",
    "data = pd.read_csv('\\pkbhx\\data\\pkbhx.csv', sep=';')"
   ]
  },
  {
   "attachments": {},
   "cell_type": "markdown",
   "metadata": {},
   "source": [
    "# 3. Data Cleaning and Pre-processing"
   ]
  },
  {
   "cell_type": "code",
   "execution_count": 5,
   "metadata": {},
   "outputs": [
    {
     "name": "stdout",
     "output_type": "stream",
     "text": [
      "False\n"
     ]
    }
   ],
   "source": [
    "# Is there any null values?\n",
    "print(data.isnull().values.any())"
   ]
  },
  {
   "cell_type": "code",
   "execution_count": 6,
   "metadata": {},
   "outputs": [
    {
     "name": "stdout",
     "output_type": "stream",
     "text": [
      "<class 'pandas.core.frame.DataFrame'>\n",
      "RangeIndex: 993 entries, 0 to 992\n",
      "Data columns (total 2 columns):\n",
      " #   Column  Non-Null Count  Dtype  \n",
      "---  ------  --------------  -----  \n",
      " 0   SMILES  993 non-null    object \n",
      " 1   pK_BHX  993 non-null    float64\n",
      "dtypes: float64(1), object(1)\n",
      "memory usage: 15.6+ KB\n"
     ]
    }
   ],
   "source": [
    "data.info()"
   ]
  },
  {
   "cell_type": "code",
   "execution_count": 7,
   "metadata": {},
   "outputs": [],
   "source": [
    "# There might be one or more valid SMILES that can represent one compound\n",
    "# Generate Canonical SMILES\n",
    "def canonical_smiles(smiles):\n",
    "    mols = [Chem.MolFromSmiles(smi) for smi in smiles]\n",
    "    smiles = [Chem.MolToSmiles(mol) for mol in mols]\n",
    "    return smiles"
   ]
  },
  {
   "cell_type": "code",
   "execution_count": 8,
   "metadata": {},
   "outputs": [],
   "source": [
    "Canon_SMILES = canonical_smiles(data.SMILES)\n",
    "# len(Canon_SMILES)\n",
    "\n",
    "# Put the smiles in the dataframe\n",
    "data['SMILES'] = Canon_SMILES"
   ]
  },
  {
   "cell_type": "code",
   "execution_count": 9,
   "metadata": {},
   "outputs": [
    {
     "name": "stdout",
     "output_type": "stream",
     "text": [
      "0 duplicated records in 993 total records.\n",
      " Resulting in 0.0% of duplicated records.\n"
     ]
    }
   ],
   "source": [
    "# Analyzing the duplicates\n",
    "print(f'{data.duplicated().sum()} duplicated records in {len(data)} total records.\\n',\n",
    "      f'Resulting in {data.duplicated().sum()/len(data)*100:.1f}% of duplicated records.')"
   ]
  },
  {
   "cell_type": "code",
   "execution_count": 10,
   "metadata": {},
   "outputs": [],
   "source": [
    "# The RDKit package calculates the molecular descriptors\n",
    "# for all molecules using as input the SMILE representation.\n",
    "calc = MoleculeDescriptors.MolecularDescriptorCalculator([x[0] for x in Descriptors._descList])\n",
    "rdkit_2d_desc = []\n",
    "for k in range(len(data)):\n",
    "  header = calc.GetDescriptorNames()\n",
    "  d = calc.CalcDescriptors(Chem.MolFromSmiles(data.iloc[k, 0]))\n",
    "  rdkit_2d_desc.append(d)\n",
    "\n",
    "temp_df = pd.DataFrame(rdkit_2d_desc, columns=header)  \n",
    "\n",
    "data = pd.concat([data, temp_df], axis=1)"
   ]
  },
  {
   "cell_type": "code",
   "execution_count": 158,
   "metadata": {},
   "outputs": [
    {
     "name": "stdout",
     "output_type": "stream",
     "text": [
      "False\n"
     ]
    }
   ],
   "source": [
    "print(data.isnull().values.any())"
   ]
  },
  {
   "cell_type": "code",
   "execution_count": 42,
   "metadata": {},
   "outputs": [
    {
     "data": {
      "text/html": [
       "<div>\n",
       "<style scoped>\n",
       "    .dataframe tbody tr th:only-of-type {\n",
       "        vertical-align: middle;\n",
       "    }\n",
       "\n",
       "    .dataframe tbody tr th {\n",
       "        vertical-align: top;\n",
       "    }\n",
       "\n",
       "    .dataframe thead th {\n",
       "        text-align: right;\n",
       "    }\n",
       "</style>\n",
       "<table border=\"1\" class=\"dataframe\">\n",
       "  <thead>\n",
       "    <tr style=\"text-align: right;\">\n",
       "      <th></th>\n",
       "      <th>SMILES</th>\n",
       "      <th>pK_BHX</th>\n",
       "      <th>MaxEStateIndex</th>\n",
       "      <th>MinEStateIndex</th>\n",
       "      <th>MaxAbsEStateIndex</th>\n",
       "      <th>MinAbsEStateIndex</th>\n",
       "      <th>qed</th>\n",
       "      <th>MolWt</th>\n",
       "      <th>HeavyAtomMolWt</th>\n",
       "      <th>ExactMolWt</th>\n",
       "      <th>...</th>\n",
       "      <th>fr_sulfide</th>\n",
       "      <th>fr_sulfonamd</th>\n",
       "      <th>fr_sulfone</th>\n",
       "      <th>fr_term_acetylene</th>\n",
       "      <th>fr_tetrazole</th>\n",
       "      <th>fr_thiazole</th>\n",
       "      <th>fr_thiocyan</th>\n",
       "      <th>fr_thiophene</th>\n",
       "      <th>fr_unbrch_alkane</th>\n",
       "      <th>fr_urea</th>\n",
       "    </tr>\n",
       "  </thead>\n",
       "  <tbody>\n",
       "    <tr>\n",
       "      <th>697</th>\n",
       "      <td>c1ccc(C[Se](Cc2ccccc2)=[O:1])cc1</td>\n",
       "      <td>3.30</td>\n",
       "      <td>11.990193</td>\n",
       "      <td>-1.770000</td>\n",
       "      <td>11.990193</td>\n",
       "      <td>0.731879</td>\n",
       "      <td>0.785197</td>\n",
       "      <td>277.225</td>\n",
       "      <td>263.113</td>\n",
       "      <td>278.020986</td>\n",
       "      <td>...</td>\n",
       "      <td>0</td>\n",
       "      <td>0</td>\n",
       "      <td>0</td>\n",
       "      <td>0</td>\n",
       "      <td>0</td>\n",
       "      <td>0</td>\n",
       "      <td>0</td>\n",
       "      <td>0</td>\n",
       "      <td>0</td>\n",
       "      <td>0</td>\n",
       "    </tr>\n",
       "    <tr>\n",
       "      <th>698</th>\n",
       "      <td>C[Se](C)=[O:1]</td>\n",
       "      <td>3.43</td>\n",
       "      <td>9.652778</td>\n",
       "      <td>-1.291667</td>\n",
       "      <td>9.652778</td>\n",
       "      <td>1.291667</td>\n",
       "      <td>0.434580</td>\n",
       "      <td>125.029</td>\n",
       "      <td>118.981</td>\n",
       "      <td>125.958386</td>\n",
       "      <td>...</td>\n",
       "      <td>0</td>\n",
       "      <td>0</td>\n",
       "      <td>0</td>\n",
       "      <td>0</td>\n",
       "      <td>0</td>\n",
       "      <td>0</td>\n",
       "      <td>0</td>\n",
       "      <td>0</td>\n",
       "      <td>0</td>\n",
       "      <td>0</td>\n",
       "    </tr>\n",
       "    <tr>\n",
       "      <th>839</th>\n",
       "      <td>c1ccc(P(c2ccccc2)(c2ccccc2)=[Se:1])cc1</td>\n",
       "      <td>0.94</td>\n",
       "      <td>3.550556</td>\n",
       "      <td>-1.651435</td>\n",
       "      <td>3.550556</td>\n",
       "      <td>1.372593</td>\n",
       "      <td>0.507427</td>\n",
       "      <td>341.252</td>\n",
       "      <td>326.132</td>\n",
       "      <td>342.007658</td>\n",
       "      <td>...</td>\n",
       "      <td>0</td>\n",
       "      <td>0</td>\n",
       "      <td>0</td>\n",
       "      <td>0</td>\n",
       "      <td>0</td>\n",
       "      <td>0</td>\n",
       "      <td>0</td>\n",
       "      <td>0</td>\n",
       "      <td>0</td>\n",
       "      <td>0</td>\n",
       "    </tr>\n",
       "    <tr>\n",
       "      <th>847</th>\n",
       "      <td>c1ccc([As](c2ccccc2)(c2ccccc2)=[O:1])cc1</td>\n",
       "      <td>4.15</td>\n",
       "      <td>13.878819</td>\n",
       "      <td>-3.544896</td>\n",
       "      <td>13.878819</td>\n",
       "      <td>0.933356</td>\n",
       "      <td>0.675029</td>\n",
       "      <td>322.239</td>\n",
       "      <td>307.119</td>\n",
       "      <td>322.033887</td>\n",
       "      <td>...</td>\n",
       "      <td>0</td>\n",
       "      <td>0</td>\n",
       "      <td>0</td>\n",
       "      <td>0</td>\n",
       "      <td>0</td>\n",
       "      <td>0</td>\n",
       "      <td>0</td>\n",
       "      <td>0</td>\n",
       "      <td>0</td>\n",
       "      <td>0</td>\n",
       "    </tr>\n",
       "    <tr>\n",
       "      <th>903</th>\n",
       "      <td>C[Se:1]C</td>\n",
       "      <td>-0.01</td>\n",
       "      <td>2.187500</td>\n",
       "      <td>0.875000</td>\n",
       "      <td>2.187500</td>\n",
       "      <td>0.875000</td>\n",
       "      <td>0.403159</td>\n",
       "      <td>109.030</td>\n",
       "      <td>102.982</td>\n",
       "      <td>109.963471</td>\n",
       "      <td>...</td>\n",
       "      <td>0</td>\n",
       "      <td>0</td>\n",
       "      <td>0</td>\n",
       "      <td>0</td>\n",
       "      <td>0</td>\n",
       "      <td>0</td>\n",
       "      <td>0</td>\n",
       "      <td>0</td>\n",
       "      <td>0</td>\n",
       "      <td>0</td>\n",
       "    </tr>\n",
       "  </tbody>\n",
       "</table>\n",
       "<p>5 rows × 210 columns</p>\n",
       "</div>"
      ],
      "text/plain": [
       "                                       SMILES  pK_BHX  MaxEStateIndex  \\\n",
       "697          c1ccc(C[Se](Cc2ccccc2)=[O:1])cc1    3.30       11.990193   \n",
       "698                            C[Se](C)=[O:1]    3.43        9.652778   \n",
       "839    c1ccc(P(c2ccccc2)(c2ccccc2)=[Se:1])cc1    0.94        3.550556   \n",
       "847  c1ccc([As](c2ccccc2)(c2ccccc2)=[O:1])cc1    4.15       13.878819   \n",
       "903                                  C[Se:1]C   -0.01        2.187500   \n",
       "\n",
       "     MinEStateIndex  MaxAbsEStateIndex  MinAbsEStateIndex       qed    MolWt  \\\n",
       "697       -1.770000          11.990193           0.731879  0.785197  277.225   \n",
       "698       -1.291667           9.652778           1.291667  0.434580  125.029   \n",
       "839       -1.651435           3.550556           1.372593  0.507427  341.252   \n",
       "847       -3.544896          13.878819           0.933356  0.675029  322.239   \n",
       "903        0.875000           2.187500           0.875000  0.403159  109.030   \n",
       "\n",
       "     HeavyAtomMolWt  ExactMolWt  ...  fr_sulfide  fr_sulfonamd  fr_sulfone  \\\n",
       "697         263.113  278.020986  ...           0             0           0   \n",
       "698         118.981  125.958386  ...           0             0           0   \n",
       "839         326.132  342.007658  ...           0             0           0   \n",
       "847         307.119  322.033887  ...           0             0           0   \n",
       "903         102.982  109.963471  ...           0             0           0   \n",
       "\n",
       "     fr_term_acetylene  fr_tetrazole  fr_thiazole  fr_thiocyan  fr_thiophene  \\\n",
       "697                  0             0            0            0             0   \n",
       "698                  0             0            0            0             0   \n",
       "839                  0             0            0            0             0   \n",
       "847                  0             0            0            0             0   \n",
       "903                  0             0            0            0             0   \n",
       "\n",
       "     fr_unbrch_alkane  fr_urea  \n",
       "697                 0        0  \n",
       "698                 0        0  \n",
       "839                 0        0  \n",
       "847                 0        0  \n",
       "903                 0        0  \n",
       "\n",
       "[5 rows x 210 columns]"
      ]
     },
     "execution_count": 42,
     "metadata": {},
     "output_type": "execute_result"
    }
   ],
   "source": [
    "data[data.isnull().any(axis=1)]"
   ]
  },
  {
   "cell_type": "code",
   "execution_count": 11,
   "metadata": {},
   "outputs": [],
   "source": [
    "header = list(data.columns)\n",
    "\n",
    "si = SimpleImputer(missing_values=np.nan, strategy='mean')\n",
    "si = si.fit(data.drop(columns='SMILES'))\n",
    "\n",
    "data_si = pd.DataFrame(si.transform(data.drop(columns='SMILES')))\n",
    "\n",
    "data = pd.concat([data['SMILES'], data_si], axis=1)\n",
    "data.columns = header"
   ]
  },
  {
   "cell_type": "code",
   "execution_count": 159,
   "metadata": {},
   "outputs": [
    {
     "name": "stdout",
     "output_type": "stream",
     "text": [
      "False\n"
     ]
    }
   ],
   "source": [
    "print(data.isnull().values.any())"
   ]
  },
  {
   "cell_type": "code",
   "execution_count": 12,
   "metadata": {},
   "outputs": [],
   "source": [
    "data.drop(columns=['SMILES'], inplace=True)"
   ]
  },
  {
   "cell_type": "code",
   "execution_count": 100,
   "metadata": {},
   "outputs": [
    {
     "name": "stdout",
     "output_type": "stream",
     "text": [
      "<class 'pandas.core.frame.DataFrame'>\n",
      "RangeIndex: 993 entries, 0 to 992\n",
      "Columns: 209 entries, pK_BHX to fr_urea\n",
      "dtypes: float64(209)\n",
      "memory usage: 1.6 MB\n"
     ]
    }
   ],
   "source": [
    "data.info()"
   ]
  },
  {
   "cell_type": "code",
   "execution_count": 101,
   "metadata": {},
   "outputs": [
    {
     "data": {
      "text/html": [
       "<div>\n",
       "<style scoped>\n",
       "    .dataframe tbody tr th:only-of-type {\n",
       "        vertical-align: middle;\n",
       "    }\n",
       "\n",
       "    .dataframe tbody tr th {\n",
       "        vertical-align: top;\n",
       "    }\n",
       "\n",
       "    .dataframe thead th {\n",
       "        text-align: right;\n",
       "    }\n",
       "</style>\n",
       "<table border=\"1\" class=\"dataframe\">\n",
       "  <thead>\n",
       "    <tr style=\"text-align: right;\">\n",
       "      <th></th>\n",
       "      <th>pK_BHX</th>\n",
       "      <th>MaxEStateIndex</th>\n",
       "      <th>MinEStateIndex</th>\n",
       "      <th>MaxAbsEStateIndex</th>\n",
       "      <th>MinAbsEStateIndex</th>\n",
       "      <th>qed</th>\n",
       "      <th>MolWt</th>\n",
       "      <th>HeavyAtomMolWt</th>\n",
       "      <th>ExactMolWt</th>\n",
       "      <th>NumValenceElectrons</th>\n",
       "      <th>...</th>\n",
       "      <th>fr_sulfide</th>\n",
       "      <th>fr_sulfonamd</th>\n",
       "      <th>fr_sulfone</th>\n",
       "      <th>fr_term_acetylene</th>\n",
       "      <th>fr_tetrazole</th>\n",
       "      <th>fr_thiazole</th>\n",
       "      <th>fr_thiocyan</th>\n",
       "      <th>fr_thiophene</th>\n",
       "      <th>fr_unbrch_alkane</th>\n",
       "      <th>fr_urea</th>\n",
       "    </tr>\n",
       "  </thead>\n",
       "  <tbody>\n",
       "    <tr>\n",
       "      <th>0</th>\n",
       "      <td>0.90</td>\n",
       "      <td>10.605370</td>\n",
       "      <td>0.058426</td>\n",
       "      <td>10.605370</td>\n",
       "      <td>0.058426</td>\n",
       "      <td>0.523744</td>\n",
       "      <td>121.139</td>\n",
       "      <td>114.083</td>\n",
       "      <td>121.052764</td>\n",
       "      <td>46.0</td>\n",
       "      <td>...</td>\n",
       "      <td>0.0</td>\n",
       "      <td>0.0</td>\n",
       "      <td>0.0</td>\n",
       "      <td>0.0</td>\n",
       "      <td>0.0</td>\n",
       "      <td>0.0</td>\n",
       "      <td>0.0</td>\n",
       "      <td>0.0</td>\n",
       "      <td>0.0</td>\n",
       "      <td>0.0</td>\n",
       "    </tr>\n",
       "    <tr>\n",
       "      <th>1</th>\n",
       "      <td>1.78</td>\n",
       "      <td>5.006944</td>\n",
       "      <td>0.888889</td>\n",
       "      <td>5.006944</td>\n",
       "      <td>0.888889</td>\n",
       "      <td>0.434057</td>\n",
       "      <td>87.122</td>\n",
       "      <td>78.050</td>\n",
       "      <td>87.068414</td>\n",
       "      <td>36.0</td>\n",
       "      <td>...</td>\n",
       "      <td>0.0</td>\n",
       "      <td>0.0</td>\n",
       "      <td>0.0</td>\n",
       "      <td>0.0</td>\n",
       "      <td>0.0</td>\n",
       "      <td>0.0</td>\n",
       "      <td>0.0</td>\n",
       "      <td>0.0</td>\n",
       "      <td>0.0</td>\n",
       "      <td>0.0</td>\n",
       "    </tr>\n",
       "    <tr>\n",
       "      <th>2</th>\n",
       "      <td>1.67</td>\n",
       "      <td>3.263889</td>\n",
       "      <td>1.212963</td>\n",
       "      <td>3.263889</td>\n",
       "      <td>1.212963</td>\n",
       "      <td>0.473722</td>\n",
       "      <td>103.190</td>\n",
       "      <td>94.118</td>\n",
       "      <td>103.045570</td>\n",
       "      <td>36.0</td>\n",
       "      <td>...</td>\n",
       "      <td>1.0</td>\n",
       "      <td>0.0</td>\n",
       "      <td>0.0</td>\n",
       "      <td>0.0</td>\n",
       "      <td>0.0</td>\n",
       "      <td>0.0</td>\n",
       "      <td>0.0</td>\n",
       "      <td>0.0</td>\n",
       "      <td>0.0</td>\n",
       "      <td>0.0</td>\n",
       "    </tr>\n",
       "    <tr>\n",
       "      <th>3</th>\n",
       "      <td>1.10</td>\n",
       "      <td>3.185185</td>\n",
       "      <td>1.166667</td>\n",
       "      <td>3.185185</td>\n",
       "      <td>1.166667</td>\n",
       "      <td>0.457255</td>\n",
       "      <td>89.163</td>\n",
       "      <td>82.107</td>\n",
       "      <td>89.029920</td>\n",
       "      <td>30.0</td>\n",
       "      <td>...</td>\n",
       "      <td>1.0</td>\n",
       "      <td>0.0</td>\n",
       "      <td>0.0</td>\n",
       "      <td>0.0</td>\n",
       "      <td>0.0</td>\n",
       "      <td>0.0</td>\n",
       "      <td>0.0</td>\n",
       "      <td>0.0</td>\n",
       "      <td>0.0</td>\n",
       "      <td>0.0</td>\n",
       "    </tr>\n",
       "    <tr>\n",
       "      <th>4</th>\n",
       "      <td>1.56</td>\n",
       "      <td>5.098194</td>\n",
       "      <td>0.913194</td>\n",
       "      <td>5.098194</td>\n",
       "      <td>0.913194</td>\n",
       "      <td>0.423889</td>\n",
       "      <td>101.149</td>\n",
       "      <td>90.061</td>\n",
       "      <td>101.084064</td>\n",
       "      <td>42.0</td>\n",
       "      <td>...</td>\n",
       "      <td>0.0</td>\n",
       "      <td>0.0</td>\n",
       "      <td>0.0</td>\n",
       "      <td>0.0</td>\n",
       "      <td>0.0</td>\n",
       "      <td>0.0</td>\n",
       "      <td>0.0</td>\n",
       "      <td>0.0</td>\n",
       "      <td>0.0</td>\n",
       "      <td>0.0</td>\n",
       "    </tr>\n",
       "  </tbody>\n",
       "</table>\n",
       "<p>5 rows × 209 columns</p>\n",
       "</div>"
      ],
      "text/plain": [
       "   pK_BHX  MaxEStateIndex  MinEStateIndex  MaxAbsEStateIndex  \\\n",
       "0    0.90       10.605370        0.058426          10.605370   \n",
       "1    1.78        5.006944        0.888889           5.006944   \n",
       "2    1.67        3.263889        1.212963           3.263889   \n",
       "3    1.10        3.185185        1.166667           3.185185   \n",
       "4    1.56        5.098194        0.913194           5.098194   \n",
       "\n",
       "   MinAbsEStateIndex       qed    MolWt  HeavyAtomMolWt  ExactMolWt  \\\n",
       "0           0.058426  0.523744  121.139         114.083  121.052764   \n",
       "1           0.888889  0.434057   87.122          78.050   87.068414   \n",
       "2           1.212963  0.473722  103.190          94.118  103.045570   \n",
       "3           1.166667  0.457255   89.163          82.107   89.029920   \n",
       "4           0.913194  0.423889  101.149          90.061  101.084064   \n",
       "\n",
       "   NumValenceElectrons  ...  fr_sulfide  fr_sulfonamd  fr_sulfone  \\\n",
       "0                 46.0  ...         0.0           0.0         0.0   \n",
       "1                 36.0  ...         0.0           0.0         0.0   \n",
       "2                 36.0  ...         1.0           0.0         0.0   \n",
       "3                 30.0  ...         1.0           0.0         0.0   \n",
       "4                 42.0  ...         0.0           0.0         0.0   \n",
       "\n",
       "   fr_term_acetylene  fr_tetrazole  fr_thiazole  fr_thiocyan  fr_thiophene  \\\n",
       "0                0.0           0.0          0.0          0.0           0.0   \n",
       "1                0.0           0.0          0.0          0.0           0.0   \n",
       "2                0.0           0.0          0.0          0.0           0.0   \n",
       "3                0.0           0.0          0.0          0.0           0.0   \n",
       "4                0.0           0.0          0.0          0.0           0.0   \n",
       "\n",
       "   fr_unbrch_alkane  fr_urea  \n",
       "0               0.0      0.0  \n",
       "1               0.0      0.0  \n",
       "2               0.0      0.0  \n",
       "3               0.0      0.0  \n",
       "4               0.0      0.0  \n",
       "\n",
       "[5 rows x 209 columns]"
      ]
     },
     "execution_count": 101,
     "metadata": {},
     "output_type": "execute_result"
    }
   ],
   "source": [
    "data.head(5)"
   ]
  },
  {
   "attachments": {},
   "cell_type": "markdown",
   "metadata": {},
   "source": [
    "# Análise"
   ]
  },
  {
   "cell_type": "code",
   "execution_count": 17,
   "metadata": {},
   "outputs": [],
   "source": [
    "features = []\n",
    "for col in data.columns:\n",
    "    features.append(col)"
   ]
  },
  {
   "cell_type": "code",
   "execution_count": 19,
   "metadata": {},
   "outputs": [
    {
     "data": {
      "text/plain": [
       "['pK_BHX',\n",
       " 'MaxEStateIndex',\n",
       " 'MinEStateIndex',\n",
       " 'MaxAbsEStateIndex',\n",
       " 'MinAbsEStateIndex',\n",
       " 'qed',\n",
       " 'MolWt',\n",
       " 'HeavyAtomMolWt',\n",
       " 'ExactMolWt',\n",
       " 'NumValenceElectrons',\n",
       " 'NumRadicalElectrons',\n",
       " 'MaxPartialCharge',\n",
       " 'MinPartialCharge',\n",
       " 'MaxAbsPartialCharge',\n",
       " 'MinAbsPartialCharge',\n",
       " 'FpDensityMorgan1',\n",
       " 'FpDensityMorgan2',\n",
       " 'FpDensityMorgan3',\n",
       " 'BCUT2D_MWHI',\n",
       " 'BCUT2D_MWLOW',\n",
       " 'BCUT2D_CHGHI',\n",
       " 'BCUT2D_CHGLO',\n",
       " 'BCUT2D_LOGPHI',\n",
       " 'BCUT2D_LOGPLOW',\n",
       " 'BCUT2D_MRHI',\n",
       " 'BCUT2D_MRLOW',\n",
       " 'BalabanJ',\n",
       " 'BertzCT',\n",
       " 'Chi0',\n",
       " 'Chi0n',\n",
       " 'Chi0v',\n",
       " 'Chi1',\n",
       " 'Chi1n',\n",
       " 'Chi1v',\n",
       " 'Chi2n',\n",
       " 'Chi2v',\n",
       " 'Chi3n',\n",
       " 'Chi3v',\n",
       " 'Chi4n',\n",
       " 'Chi4v',\n",
       " 'HallKierAlpha',\n",
       " 'Ipc',\n",
       " 'Kappa1',\n",
       " 'Kappa2',\n",
       " 'Kappa3',\n",
       " 'LabuteASA',\n",
       " 'PEOE_VSA1',\n",
       " 'PEOE_VSA10',\n",
       " 'PEOE_VSA11',\n",
       " 'PEOE_VSA12',\n",
       " 'PEOE_VSA13',\n",
       " 'PEOE_VSA14',\n",
       " 'PEOE_VSA2',\n",
       " 'PEOE_VSA3',\n",
       " 'PEOE_VSA4',\n",
       " 'PEOE_VSA5',\n",
       " 'PEOE_VSA6',\n",
       " 'PEOE_VSA7',\n",
       " 'PEOE_VSA8',\n",
       " 'PEOE_VSA9',\n",
       " 'SMR_VSA1',\n",
       " 'SMR_VSA10',\n",
       " 'SMR_VSA2',\n",
       " 'SMR_VSA3',\n",
       " 'SMR_VSA4',\n",
       " 'SMR_VSA5',\n",
       " 'SMR_VSA6',\n",
       " 'SMR_VSA7',\n",
       " 'SMR_VSA8',\n",
       " 'SMR_VSA9',\n",
       " 'SlogP_VSA1',\n",
       " 'SlogP_VSA10',\n",
       " 'SlogP_VSA11',\n",
       " 'SlogP_VSA12',\n",
       " 'SlogP_VSA2',\n",
       " 'SlogP_VSA3',\n",
       " 'SlogP_VSA4',\n",
       " 'SlogP_VSA5',\n",
       " 'SlogP_VSA6',\n",
       " 'SlogP_VSA7',\n",
       " 'SlogP_VSA8',\n",
       " 'SlogP_VSA9',\n",
       " 'TPSA',\n",
       " 'EState_VSA1',\n",
       " 'EState_VSA10',\n",
       " 'EState_VSA11',\n",
       " 'EState_VSA2',\n",
       " 'EState_VSA3',\n",
       " 'EState_VSA4',\n",
       " 'EState_VSA5',\n",
       " 'EState_VSA6',\n",
       " 'EState_VSA7',\n",
       " 'EState_VSA8',\n",
       " 'EState_VSA9',\n",
       " 'VSA_EState1',\n",
       " 'VSA_EState10',\n",
       " 'VSA_EState2',\n",
       " 'VSA_EState3',\n",
       " 'VSA_EState4',\n",
       " 'VSA_EState5',\n",
       " 'VSA_EState6',\n",
       " 'VSA_EState7',\n",
       " 'VSA_EState8',\n",
       " 'VSA_EState9',\n",
       " 'FractionCSP3',\n",
       " 'HeavyAtomCount',\n",
       " 'NHOHCount',\n",
       " 'NOCount',\n",
       " 'NumAliphaticCarbocycles',\n",
       " 'NumAliphaticHeterocycles',\n",
       " 'NumAliphaticRings',\n",
       " 'NumAromaticCarbocycles',\n",
       " 'NumAromaticHeterocycles',\n",
       " 'NumAromaticRings',\n",
       " 'NumHAcceptors',\n",
       " 'NumHDonors',\n",
       " 'NumHeteroatoms',\n",
       " 'NumRotatableBonds',\n",
       " 'NumSaturatedCarbocycles',\n",
       " 'NumSaturatedHeterocycles',\n",
       " 'NumSaturatedRings',\n",
       " 'RingCount',\n",
       " 'MolLogP',\n",
       " 'MolMR',\n",
       " 'fr_Al_COO',\n",
       " 'fr_Al_OH',\n",
       " 'fr_Al_OH_noTert',\n",
       " 'fr_ArN',\n",
       " 'fr_Ar_COO',\n",
       " 'fr_Ar_N',\n",
       " 'fr_Ar_NH',\n",
       " 'fr_Ar_OH',\n",
       " 'fr_COO',\n",
       " 'fr_COO2',\n",
       " 'fr_C_O',\n",
       " 'fr_C_O_noCOO',\n",
       " 'fr_C_S',\n",
       " 'fr_HOCCN',\n",
       " 'fr_Imine',\n",
       " 'fr_NH0',\n",
       " 'fr_NH1',\n",
       " 'fr_NH2',\n",
       " 'fr_N_O',\n",
       " 'fr_Ndealkylation1',\n",
       " 'fr_Ndealkylation2',\n",
       " 'fr_Nhpyrrole',\n",
       " 'fr_SH',\n",
       " 'fr_aldehyde',\n",
       " 'fr_alkyl_carbamate',\n",
       " 'fr_alkyl_halide',\n",
       " 'fr_allylic_oxid',\n",
       " 'fr_amide',\n",
       " 'fr_amidine',\n",
       " 'fr_aniline',\n",
       " 'fr_aryl_methyl',\n",
       " 'fr_azide',\n",
       " 'fr_azo',\n",
       " 'fr_barbitur',\n",
       " 'fr_benzene',\n",
       " 'fr_benzodiazepine',\n",
       " 'fr_bicyclic',\n",
       " 'fr_diazo',\n",
       " 'fr_dihydropyridine',\n",
       " 'fr_epoxide',\n",
       " 'fr_ester',\n",
       " 'fr_ether',\n",
       " 'fr_furan',\n",
       " 'fr_guanido',\n",
       " 'fr_halogen',\n",
       " 'fr_hdrzine',\n",
       " 'fr_hdrzone',\n",
       " 'fr_imidazole',\n",
       " 'fr_imide',\n",
       " 'fr_isocyan',\n",
       " 'fr_isothiocyan',\n",
       " 'fr_ketone',\n",
       " 'fr_ketone_Topliss',\n",
       " 'fr_lactam',\n",
       " 'fr_lactone',\n",
       " 'fr_methoxy',\n",
       " 'fr_morpholine',\n",
       " 'fr_nitrile',\n",
       " 'fr_nitro',\n",
       " 'fr_nitro_arom',\n",
       " 'fr_nitro_arom_nonortho',\n",
       " 'fr_nitroso',\n",
       " 'fr_oxazole',\n",
       " 'fr_oxime',\n",
       " 'fr_para_hydroxylation',\n",
       " 'fr_phenol',\n",
       " 'fr_phenol_noOrthoHbond',\n",
       " 'fr_phos_acid',\n",
       " 'fr_phos_ester',\n",
       " 'fr_piperdine',\n",
       " 'fr_piperzine',\n",
       " 'fr_priamide',\n",
       " 'fr_prisulfonamd',\n",
       " 'fr_pyridine',\n",
       " 'fr_quatN',\n",
       " 'fr_sulfide',\n",
       " 'fr_sulfonamd',\n",
       " 'fr_sulfone',\n",
       " 'fr_term_acetylene',\n",
       " 'fr_tetrazole',\n",
       " 'fr_thiazole',\n",
       " 'fr_thiocyan',\n",
       " 'fr_thiophene',\n",
       " 'fr_unbrch_alkane',\n",
       " 'fr_urea']"
      ]
     },
     "execution_count": 19,
     "metadata": {},
     "output_type": "execute_result"
    }
   ],
   "source": [
    "features"
   ]
  },
  {
   "cell_type": "code",
   "execution_count": 20,
   "metadata": {},
   "outputs": [],
   "source": [
    "features.remove('pK_BHX')"
   ]
  },
  {
   "cell_type": "code",
   "execution_count": 50,
   "metadata": {},
   "outputs": [],
   "source": [
    "target = 'pK_BHX'"
   ]
  },
  {
   "cell_type": "code",
   "execution_count": 54,
   "metadata": {},
   "outputs": [
    {
     "name": "stdout",
     "output_type": "stream",
     "text": [
      "1.146\n"
     ]
    }
   ],
   "source": [
    "print(f'{data[\"pK_BHX\"].mean():.3f}')"
   ]
  },
  {
   "cell_type": "code",
   "execution_count": 69,
   "metadata": {},
   "outputs": [
    {
     "data": {
      "image/png": "[encoded data removed]",
      "text/plain": [
       "<Figure size 1200x400 with 2 Axes>"
      ]
     },
     "metadata": {},
     "output_type": "display_data"
    }
   ],
   "source": [
    "fig, ax = plt.subplots(ncols=2, figsize=(12, 4))\n",
    "\n",
    "# Boxplot\n",
    "sns.boxplot(data=data, x=data[\"pK_BHX\"], ax=ax[0], showmeans=True)\n",
    "ax[0].set_title('Location and Variability: Box-Plot')\n",
    "\n",
    "# Check outliers\n",
    "q1 = data[\"pK_BHX\"].quantile(0.25)\n",
    "q3 = data[\"pK_BHX\"].quantile(0.75)\n",
    "iqr = q3 - q1\n",
    "outliers = (data[\"pK_BHX\"][(q1-1.5*iqr <= data[\"pK_BHX\"]) | data[\"pK_BHX\"] >= q3+1.5*iqr])\n",
    "\n",
    "if outliers.empty:\n",
    "    has_outliers = 'No'\n",
    "else:\n",
    "    has_outliers = 'Yes'\n",
    "\n",
    "# Presenting the stats\n",
    "ax[0].annotate(text=f'Mean: {data[\"pK_BHX\"].mean():.3f}\\n'\n",
    "                    f'Median: {data[\"pK_BHX\"].median():.3f}\\n'\n",
    "                    f'StdDev: {data[\"pK_BHX\"].std():.3f}\\n'\n",
    "                    f'Outliers: {has_outliers}',\n",
    "                    xy=(1,1), xytext=(-12,-12), xycoords='axes fraction', textcoords='offset points', ha='right', va='top', bbox=dict(facecolor='grey', alpha=0.2, pad=12))\n",
    "\n",
    "# Histogram\n",
    "sns.histplot(data=data, x=data['pK_BHX'], ax=ax[1], kde=True)\n",
    "ax[1].set_title('Distribution: Histogram')\n",
    "ax[1].yaxis.label.set_visible(False)\n",
    "\n",
    "# Normality stats\n",
    "_, pvalue = normaltest(data['pK_BHX'])\n",
    "skewness = skew(data['pK_BHX'])\n",
    "\n",
    "plt.show()"
   ]
  },
  {
   "cell_type": "code",
   "execution_count": 13,
   "metadata": {},
   "outputs": [],
   "source": [
    "data_y = data['pK_BHX']\n",
    "data_X = data.drop(columns=['pK_BHX'])"
   ]
  },
  {
   "cell_type": "code",
   "execution_count": 14,
   "metadata": {},
   "outputs": [
    {
     "data": {
      "text/plain": [
       "(993, 208)"
      ]
     },
     "execution_count": 14,
     "metadata": {},
     "output_type": "execute_result"
    }
   ],
   "source": [
    "data_X.shape"
   ]
  },
  {
   "attachments": {},
   "cell_type": "markdown",
   "metadata": {},
   "source": [
    "# Select subsets of features based on their relationship with the target"
   ]
  },
  {
   "cell_type": "code",
   "execution_count": 15,
   "metadata": {},
   "outputs": [],
   "source": [
    "from sklearn.feature_selection import VarianceThreshold\n",
    "\n",
    "header = list(data_X.columns)\n",
    "\n",
    "vt = VarianceThreshold()\n",
    "data_X = vt.fit_transform(data_X)\n",
    "\n",
    "cols = vt.get_support(indices=True)\n",
    "\n",
    "selected_features = []\n",
    "for i in range(len(cols)):\n",
    "    selected_features.append(header[cols[i]])\n",
    "\n",
    "data_X = pd.DataFrame(data_X, columns=selected_features)\n",
    "\n"
   ]
  },
  {
   "cell_type": "code",
   "execution_count": 16,
   "metadata": {},
   "outputs": [
    {
     "data": {
      "text/plain": [
       "(993, 186)"
      ]
     },
     "execution_count": 16,
     "metadata": {},
     "output_type": "execute_result"
    }
   ],
   "source": [
    "data_X.shape"
   ]
  },
  {
   "cell_type": "code",
   "execution_count": 17,
   "metadata": {},
   "outputs": [],
   "source": [
    "#find the correlated features\n",
    "def correlation(dataset, threshold):\n",
    "    col_corr = set()\n",
    "    corr_matrix = dataset.corr(method=\"pearson\")\n",
    "    for i in range(len(corr_matrix.columns)):\n",
    "        for j in range(i):\n",
    "            if abs(corr_matrix.iloc[i][j]) >= threshold:\n",
    "                colname = corr_matrix.columns[i]\n",
    "                col_corr.add(colname)\n",
    "    dataset.drop(col_corr, axis=1, inplace=True)\n",
    "    return dataset"
   ]
  },
  {
   "cell_type": "code",
   "execution_count": 18,
   "metadata": {},
   "outputs": [],
   "source": [
    "data_X = correlation(data_X, 0.4)"
   ]
  },
  {
   "cell_type": "code",
   "execution_count": 19,
   "metadata": {},
   "outputs": [
    {
     "data": {
      "text/plain": [
       "(993, 54)"
      ]
     },
     "execution_count": 19,
     "metadata": {},
     "output_type": "execute_result"
    }
   ],
   "source": [
    "data_X.shape"
   ]
  },
  {
   "cell_type": "code",
   "execution_count": 115,
   "metadata": {},
   "outputs": [],
   "source": [
    "# Split Data into Training (80%) and Test set (20%)\n",
    "\n",
    "X_train, X_test, y_train, y_test = model_selection.train_test_split(data_X, data_y, test_size=0.2, random_state=0)"
   ]
  },
  {
   "cell_type": "code",
   "execution_count": 22,
   "metadata": {},
   "outputs": [],
   "source": [
    "def rmse(y_true, y_pred):\n",
    "    return mean_squared_error(y_true, y_pred)\n",
    "\n",
    "rmse = make_scorer(rmse, greater_is_better=False)"
   ]
  },
  {
   "cell_type": "code",
   "execution_count": 77,
   "metadata": {},
   "outputs": [],
   "source": [
    "metrics = pd.DataFrame(index=['R**2', 'Mean Absolute Error (MAE)', 'Mean Square Error (MSE)', 'Root Mean Square Error (RMSE)'],\n",
    "                       columns=['Dummy Regressor', 'Support Vector Machine', 'Nearest Neighbors', 'Light Gradient Boosting', 'Random Forest', 'TPOT'])"
   ]
  },
  {
   "cell_type": "code",
   "execution_count": 62,
   "metadata": {},
   "outputs": [],
   "source": [
    "def gridsearch_hyper(model_name, estimator, parameter_grid):\n",
    "  gs = GridSearchCV(estimator, parameter_grid, cv=5, scoring=rmse)\n",
    "\n",
    "  gs.fit(X_train, y_train)\n",
    "  \n",
    "  y_pred = gs.predict(X_test)\n",
    "\n",
    "  metrics.loc['R**2', model_name] = r2_score(y_test, y_pred)\n",
    "  metrics.loc['Mean Absolute Error (MAE)', model_name] = mean_absolute_error(y_test, y_pred)\n",
    "  metrics.loc['Mean Square Error (MSE)', model_name] = mean_squared_error(y_test, y_pred)\n",
    "  metrics.loc['Root Mean Square Error (RMSE)', model_name] = mean_squared_error(y_test, y_pred, squared=False)\n",
    "\n",
    "  print(f'Best parameters to {model_name}: {gs.best_params_}')"
   ]
  },
  {
   "cell_type": "code",
   "execution_count": 108,
   "metadata": {},
   "outputs": [],
   "source": [
    "# Space of hyperparameters and estimators we want to search through.\n",
    "model_name = ['Dummy Regressor', 'Support Vector Machine', 'Nearest Neighbors', 'Light Gradient Boosting', \"Random Forest\"]\n",
    "\n",
    "parameter_grid_dr = {\n",
    "    'estimator__strategy':['mean', 'median']\n",
    "}\n",
    "\n",
    "parameter_grid_svr = {\n",
    "    'estimator__kernel':['linear', 'poly', 'rbf', 'sigmoid'],\n",
    "    'estimator__degree':[3, 4, 5],\n",
    "    'estimator__gamma':['scale', 'auto'],\n",
    "    'estimator__coef0':[0.1, 0.25, 0.5, 1.0, 3.0, 5.0],\n",
    "    'estimator__C':[0.01, 0.1, 0.25, 0.5, 1.0, 3.0, 5.0]\n",
    "}\n",
    "\n",
    "parameter_grid_nn = {\n",
    "    'estimator__n_neighbors':[5, 6, 8, 10],\n",
    "    'estimator__algorithm':['auto', 'ball_tree', 'kd_tree', 'brute'],\n",
    "    'estimator__weights':['uniform', 'distance']\n",
    "}\n",
    "\n",
    "parameter_grid_lgb = {\n",
    "    'estimator__learning_rate':[0.001, 0.01, 0.1],\n",
    "    'estimator__max_depth':[4, 6, 8, 10],\n",
    "    'estimator__tree_learner':['serial', 'feature', 'data', 'voting']\n",
    "}\n",
    "\n",
    "parameter_grid_rf = {\n",
    "    'estimator__n_estimators':[10, 25, 50, 100],\n",
    "    'estimator__criterion':['squared_error', 'absolute_error'],\n",
    "    'estimator__max_depth':[1, 2, 3, 4, 5, 6, 7, 8, 9, 10],\n",
    "    'estimator__max_features':['auto', 'sqrt', 'log2']\n",
    "}"
   ]
  },
  {
   "cell_type": "code",
   "execution_count": 103,
   "metadata": {},
   "outputs": [
    {
     "name": "stdout",
     "output_type": "stream",
     "text": [
      "Best parameters to Dummy Regressor: {'estimator__strategy': 'mean'}\n"
     ]
    }
   ],
   "source": [
    "model_dr = DummyRegressor()\n",
    "\n",
    "pipe = Pipeline([('scaler', StandardScaler()), ('estimator', model_dr)])\n",
    "gs_dr = gridsearch_hyper('Dummy Regressor', pipe, parameter_grid_dr)"
   ]
  },
  {
   "cell_type": "code",
   "execution_count": 111,
   "metadata": {},
   "outputs": [
    {
     "name": "stdout",
     "output_type": "stream",
     "text": [
      "Best parameters to Support Vector Machine: {'estimator__C': 5.0, 'estimator__coef0': 0.1, 'estimator__degree': 3, 'estimator__gamma': 'scale', 'estimator__kernel': 'rbf'}\n"
     ]
    }
   ],
   "source": [
    "model_svr = SVR()\n",
    "\n",
    "pipe = Pipeline([('scaler', StandardScaler()), ('estimator', model_svr)])\n",
    "gs_svr = gridsearch_hyper('Support Vector Machine', pipe, parameter_grid_svr)"
   ]
  },
  {
   "cell_type": "code",
   "execution_count": 105,
   "metadata": {},
   "outputs": [
    {
     "name": "stdout",
     "output_type": "stream",
     "text": [
      "Best parameters to Nearest Neighbors: {'estimator__algorithm': 'ball_tree', 'estimator__n_neighbors': 6, 'estimator__weights': 'distance'}\n"
     ]
    }
   ],
   "source": [
    "model_nn = KNeighborsRegressor()\n",
    "\n",
    "pipe = Pipeline([('scaler', StandardScaler()), ('estimator', model_nn)])\n",
    "gs_nn = gridsearch_hyper('Nearest Neighbors', pipe, parameter_grid_nn)"
   ]
  },
  {
   "cell_type": "code",
   "execution_count": 100,
   "metadata": {},
   "outputs": [
    {
     "name": "stdout",
     "output_type": "stream",
     "text": [
      "Best parameters to Light Gradient Boosting: {'estimator__learning_rate': 0.1, 'estimator__max_depth': 6, 'estimator__tree_learner': 'serial'}\n"
     ]
    }
   ],
   "source": [
    "model_lgb = lgb.LGBMRegressor(random_state=0, verbosity=-1)\n",
    "\n",
    "pipe = Pipeline([('scaler', StandardScaler()), ('estimator', model_lgb)])\n",
    "gs_lgb = gridsearch_hyper('Light Gradient Boosting', pipe, parameter_grid_lgb)"
   ]
  },
  {
   "cell_type": "code",
   "execution_count": 109,
   "metadata": {},
   "outputs": [
    {
     "name": "stdout",
     "output_type": "stream",
     "text": [
      "Best parameters to Random Forest: {'estimator__criterion': 'squared_error', 'estimator__max_depth': 10, 'estimator__max_features': 'auto', 'estimator__n_estimators': 100}\n"
     ]
    }
   ],
   "source": [
    "model_rf = RandomForestRegressor(random_state=0)\n",
    "\n",
    "pipe = Pipeline([('scaler', StandardScaler()), ('estimator', model_rf)])\n",
    "gs_rf = gridsearch_hyper('Random Forest', pipe, parameter_grid_rf)"
   ]
  },
  {
   "cell_type": "code",
   "execution_count": 23,
   "metadata": {},
   "outputs": [
    {
     "data": {
      "application/vnd.jupyter.widget-view+json": {
       "model_id": "78c44e882a7a4424b5076882918ca663",
       "version_major": 2,
       "version_minor": 0
      },
      "text/plain": [
       "Optimization Progress:   0%|          | 0/3000 [00:00<?, ?pipeline/s]"
      ]
     },
     "metadata": {},
     "output_type": "display_data"
    },
    {
     "name": "stdout",
     "output_type": "stream",
     "text": [
      "\n",
      "Generation 1 - Current best internal CV score: -0.325683393911981\n",
      "\n",
      "Generation 2 - Current best internal CV score: -0.3025050102919342\n",
      "\n",
      "Generation 3 - Current best internal CV score: -0.3024629739209984\n",
      "\n",
      "Generation 4 - Current best internal CV score: -0.29977505028631823\n",
      "\n",
      "Generation 5 - Current best internal CV score: -0.29977505028631823\n",
      "\n",
      "Best pipeline: XGBRegressor(input_matrix, learning_rate=0.1, max_depth=10, min_child_weight=4, n_estimators=100, n_jobs=1, objective=reg:squarederror, subsample=0.4, verbosity=0)\n"
     ]
    }
   ],
   "source": [
    "tpot_regressor = TPOTRegressor(generations=5, population_size=500, scoring=rmse, n_jobs=-1, verbosity=2, random_state=0)\n",
    "tpot_regressor.fit(X_train.values, y_train)\n",
    "tpot_regressor.export('/pkbhx/data/tpot_exported_pipeline_g5_p500.py')"
   ]
  },
  {
   "cell_type": "code",
   "execution_count": 28,
   "metadata": {},
   "outputs": [
    {
     "data": {
      "text/plain": [
       "XGBRegressor(base_score=0.5, booster='gbtree', callbacks=None,\n",
       "             colsample_bylevel=1, colsample_bynode=1, colsample_bytree=1,\n",
       "             early_stopping_rounds=None, enable_categorical=False,\n",
       "             eval_metric=None, feature_types=None, gamma=0, gpu_id=-1,\n",
       "             grow_policy='depthwise', importance_type=None,\n",
       "             interaction_constraints='', learning_rate=0.1, max_bin=256,\n",
       "             max_cat_threshold=64, max_cat_to_onehot=4, max_delta_step=0,\n",
       "             max_depth=10, max_leaves=0, min_child_weight=4, missing=nan,\n",
       "             monotone_constraints='()', n_estimators=100, n_jobs=1,\n",
       "             num_parallel_tree=1, predictor='auto', random_state=0, ...)"
      ]
     },
     "execution_count": 28,
     "metadata": {},
     "output_type": "execute_result"
    }
   ],
   "source": [
    "import numpy as np\n",
    "import pandas as pd\n",
    "from sklearn.model_selection import train_test_split\n",
    "from xgboost import XGBRegressor\n",
    "\n",
    "# Average CV score on the training set was: -0.29977505028631823\n",
    "exported_pipeline = XGBRegressor(learning_rate=0.1, max_depth=10, min_child_weight=4,\n",
    "                                    n_estimators=100, n_jobs=1, objective=\"reg:squarederror\",\n",
    "                                    subsample=0.4, random_state = 0, verbosity=0)\n",
    "\n",
    "exported_pipeline.fit(X_train.values, y_train)"
   ]
  },
  {
   "cell_type": "code",
   "execution_count": 113,
   "metadata": {},
   "outputs": [],
   "source": [
    "y_hat = exported_pipeline.predict(X_test)\n",
    "metrics.loc['R**2', 'TPOT'] = r2_score(y_test, y_hat)\n",
    "metrics.loc['Mean Absolute Error (MAE)', 'TPOT'] = mean_absolute_error(y_test, y_hat)\n",
    "metrics.loc['Mean Square Error (MSE)', 'TPOT'] = mean_squared_error(y_test, y_hat)\n",
    "metrics.loc['Root Mean Square Error (RMSE)', 'TPOT'] = mean_squared_error(y_test, y_hat, squared=False)"
   ]
  },
  {
   "cell_type": "code",
   "execution_count": 114,
   "metadata": {},
   "outputs": [
    {
     "data": {
      "text/html": [
       "<div>\n",
       "<style scoped>\n",
       "    .dataframe tbody tr th:only-of-type {\n",
       "        vertical-align: middle;\n",
       "    }\n",
       "\n",
       "    .dataframe tbody tr th {\n",
       "        vertical-align: top;\n",
       "    }\n",
       "\n",
       "    .dataframe thead th {\n",
       "        text-align: right;\n",
       "    }\n",
       "</style>\n",
       "<table border=\"1\" class=\"dataframe\">\n",
       "  <thead>\n",
       "    <tr style=\"text-align: right;\">\n",
       "      <th></th>\n",
       "      <th>Dummy Regressor</th>\n",
       "      <th>Support Vector Machine</th>\n",
       "      <th>Nearest Neighbors</th>\n",
       "      <th>Light Gradient Boosting</th>\n",
       "      <th>Random Forest</th>\n",
       "      <th>TPOT</th>\n",
       "    </tr>\n",
       "  </thead>\n",
       "  <tbody>\n",
       "    <tr>\n",
       "      <th>R**2</th>\n",
       "      <td>-0.005299</td>\n",
       "      <td>0.558066</td>\n",
       "      <td>0.451478</td>\n",
       "      <td>0.730985</td>\n",
       "      <td>0.731743</td>\n",
       "      <td>0.735088</td>\n",
       "    </tr>\n",
       "    <tr>\n",
       "      <th>Mean Absolute Error (MAE)</th>\n",
       "      <td>0.732584</td>\n",
       "      <td>0.417171</td>\n",
       "      <td>0.451477</td>\n",
       "      <td>0.354296</td>\n",
       "      <td>0.349605</td>\n",
       "      <td>0.339945</td>\n",
       "    </tr>\n",
       "    <tr>\n",
       "      <th>Mean Square Error (MSE)</th>\n",
       "      <td>0.850519</td>\n",
       "      <td>0.373892</td>\n",
       "      <td>0.464069</td>\n",
       "      <td>0.227597</td>\n",
       "      <td>0.226955</td>\n",
       "      <td>0.224125</td>\n",
       "    </tr>\n",
       "    <tr>\n",
       "      <th>Root Mean Square Error (RMSE)</th>\n",
       "      <td>0.922236</td>\n",
       "      <td>0.611467</td>\n",
       "      <td>0.681226</td>\n",
       "      <td>0.477071</td>\n",
       "      <td>0.476398</td>\n",
       "      <td>0.473418</td>\n",
       "    </tr>\n",
       "  </tbody>\n",
       "</table>\n",
       "</div>"
      ],
      "text/plain": [
       "                              Dummy Regressor Support Vector Machine  \\\n",
       "R**2                                -0.005299               0.558066   \n",
       "Mean Absolute Error (MAE)            0.732584               0.417171   \n",
       "Mean Square Error (MSE)              0.850519               0.373892   \n",
       "Root Mean Square Error (RMSE)        0.922236               0.611467   \n",
       "\n",
       "                              Nearest Neighbors Light Gradient Boosting  \\\n",
       "R**2                                   0.451478                0.730985   \n",
       "Mean Absolute Error (MAE)              0.451477                0.354296   \n",
       "Mean Square Error (MSE)                0.464069                0.227597   \n",
       "Root Mean Square Error (RMSE)          0.681226                0.477071   \n",
       "\n",
       "                              Random Forest      TPOT  \n",
       "R**2                               0.731743  0.735088  \n",
       "Mean Absolute Error (MAE)          0.349605  0.339945  \n",
       "Mean Square Error (MSE)            0.226955  0.224125  \n",
       "Root Mean Square Error (RMSE)      0.476398  0.473418  "
      ]
     },
     "execution_count": 114,
     "metadata": {},
     "output_type": "execute_result"
    }
   ],
   "source": [
    "metrics"
   ]
  },
  {
   "cell_type": "code",
   "execution_count": 156,
   "metadata": {},
   "outputs": [
    {
     "data": {
      "image/png": "[encoded data removed]",
      "text/plain": [
       "<Figure size 500x400 with 1 Axes>"
      ]
     },
     "metadata": {},
     "output_type": "display_data"
    }
   ],
   "source": [
    "fig, ax = plt.subplots(figsize=(5, 4))\n",
    "metrics.plot(kind='barh', ax=ax)\n",
    "ax.grid()\n",
    "ax.set_title('Comparing the Six Models')\n",
    "plt.legend(['DR', 'SVM', 'NN', 'LGB', 'RF', 'TPOT'], loc=4, shadow=True)\n",
    "plt.annotate('Close to 0 is better', xy=(0.1, 0.58))\n",
    "plt.annotate('Close to 1 or -1 is better', xy=(0.1, 0.3))\n",
    "plt.axhline(y=0.5, linestyle='--')\n",
    "plt.show()"
   ]
  },
  {
   "cell_type": "code",
   "execution_count": 164,
   "metadata": {},
   "outputs": [
    {
     "data": {
      "image/png": "[encoded data removed]",
      "text/plain": [
       "<Figure size 800x550 with 1 Axes>"
      ]
     },
     "metadata": {},
     "output_type": "display_data"
    },
    {
     "data": {
      "text/plain": [
       "<AxesSubplot:title={'center':'Prediction Error for XGBRegressor'}, xlabel='$y$', ylabel='$\\\\hat{y}$'>"
      ]
     },
     "execution_count": 164,
     "metadata": {},
     "output_type": "execute_result"
    }
   ],
   "source": [
    "from yellowbrick.regressor import PredictionError\n",
    "\n",
    "# Instantiate the linear model and visualizer\n",
    "pred_visualizer = PredictionError(exported_pipeline)\n",
    "\n",
    "pred_visualizer.fit(X_train, y_train)  # Fit the training data to the visualizer\n",
    "pred_visualizer.score(X_test, y_test)  # Evaluate the model on the test data\n",
    "pred_visualizer.ax.grid(False)\n",
    "pred_visualizer.show()                 # Finalize and render the figure"
   ]
  },
  {
   "cell_type": "code",
   "execution_count": 161,
   "metadata": {},
   "outputs": [
    {
     "data": {
      "image/png": "[encoded data removed]",
      "text/plain": [
       "<Figure size 800x550 with 2 Axes>"
      ]
     },
     "metadata": {},
     "output_type": "display_data"
    },
    {
     "data": {
      "text/plain": [
       "<AxesSubplot:title={'center':'Residuals for XGBRegressor Model'}, xlabel='Predicted Value', ylabel='Residuals'>"
      ]
     },
     "execution_count": 161,
     "metadata": {},
     "output_type": "execute_result"
    }
   ],
   "source": [
    "from yellowbrick.regressor import ResidualsPlot\n",
    "\n",
    "res_visualizer = ResidualsPlot(exported_pipeline)\n",
    "\n",
    "res_visualizer.fit(X_train, y_train)  # Fit the training data to the visualizer\n",
    "res_visualizer.score(X_test, y_test)  # Evaluate the model on the test data\n",
    "res_visualizer.ax.grid(False)\n",
    "res_visualizer.show()  "
   ]
  },
  {
   "cell_type": "code",
   "execution_count": 166,
   "metadata": {},
   "outputs": [
    {
     "data": {
      "image/png": "[encoded data removed]",
      "text/plain": [
       "<Figure size 800x550 with 1 Axes>"
      ]
     },
     "metadata": {},
     "output_type": "display_data"
    },
    {
     "data": {
      "text/plain": [
       "<AxesSubplot:title={'center':'Learning Curve for XGBRegressor'}, xlabel='Training Instances', ylabel='Score'>"
      ]
     },
     "execution_count": 166,
     "metadata": {},
     "output_type": "execute_result"
    }
   ],
   "source": [
    "from yellowbrick.model_selection import LearningCurve\n",
    "\n",
    "# Instantiate the regression model and visualizer\n",
    "lea_visualizer = LearningCurve(exported_pipeline, scoring='r2')\n",
    "\n",
    "lea_visualizer.fit(X_train, y_train)        # Fit the data to the visualizer\n",
    "lea_visualizer.ax.grid(False)\n",
    "lea_visualizer.show()           # Finalize and render the figure"
   ]
  }
 ],
 "metadata": {
  "kernelspec": {
   "display_name": "base",
   "language": "python",
   "name": "python3"
  },
  "language_info": {
   "codemirror_mode": {
    "name": "ipython",
    "version": 3
   },
   "file_extension": ".py",
   "mimetype": "text/x-python",
   "name": "python",
   "nbconvert_exporter": "python",
   "pygments_lexer": "ipython3",
   "version": "3.9.13"
  },
  "orig_nbformat": 4,
  "vscode": {
   "interpreter": {
    "hash": "ad2bdc8ecc057115af97d19610ffacc2b4e99fae6737bb82f5d7fb13d2f2c186"
   }
  }
 },
 "nbformat": 4,
 "nbformat_minor": 2
}
