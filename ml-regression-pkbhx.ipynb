{
 "cells": [
  {
   "attachments": {},
   "cell_type": "markdown",
   "metadata": {},
   "source": [
    "# 1. Preparing Tool Box"
   ]
  },
  {
   "attachments": {},
   "cell_type": "markdown",
   "metadata": {},
   "source": [
    "Import the necessary Python libraries"
   ]
  },
  {
   "cell_type": "code",
   "execution_count": 2,
   "metadata": {},
   "outputs": [
    {
     "name": "stdout",
     "output_type": "stream",
     "text": [
      "\\pkbhx\\data\\pkbhx.csv\n"
     ]
    }
   ],
   "source": [
    "import os\n",
    "for dirname, _, filenames in os.walk('\\pkbhx\\data'):\n",
    "    for filename in filenames:\n",
    "        print(os.path.join(dirname, filename))"
   ]
  },
  {
   "cell_type": "code",
   "execution_count": 3,
   "metadata": {},
   "outputs": [],
   "source": [
    "# Import necessary modules\n",
    "from math import sqrt\n",
    "from rdkit import Chem\n",
    "from rdkit.Chem import Descriptors, Draw\n",
    "from rdkit.ML.Descriptors import MoleculeDescriptors\n",
    "from sklearn import model_selection\n",
    "from sklearn.model_selection import GridSearchCV, train_test_split\n",
    "from sklearn.dummy import DummyRegressor\n",
    "from sklearn.ensemble import RandomForestRegressor\n",
    "from sklearn.feature_selection import VarianceThreshold\n",
    "from sklearn.impute import SimpleImputer\n",
    "from sklearn.metrics import make_scorer, mean_absolute_error, mean_squared_error, r2_score\n",
    "from sklearn.neighbors import KNeighborsRegressor\n",
    "from sklearn.pipeline import Pipeline\n",
    "from sklearn.preprocessing import StandardScaler\n",
    "from sklearn.svm import SVR\n",
    "from tpot import TPOTRegressor\n",
    "from yellowbrick.regressor import PredictionError, ResidualsPlot\n",
    "\n",
    "import lightgbm as lgb\n",
    "import matplotlib.pyplot as plt\n",
    "import numpy as np\n",
    "import pandas as pd\n",
    "import seaborn as sns"
   ]
  },
  {
   "attachments": {},
   "cell_type": "markdown",
   "metadata": {},
   "source": [
    "# 2. Reading the Data"
   ]
  },
  {
   "attachments": {},
   "cell_type": "markdown",
   "metadata": {},
   "source": [
    "Read the comma-separated values (csv) file and put the data into a Pandas Dataframe"
   ]
  },
  {
   "cell_type": "code",
   "execution_count": 4,
   "metadata": {},
   "outputs": [],
   "source": [
    "# Create a DataFrame\n",
    "data = pd.read_csv('\\pkbhx\\data\\pkbhx.csv', sep=';')"
   ]
  },
  {
   "attachments": {},
   "cell_type": "markdown",
   "metadata": {},
   "source": [
    "# 3. Data Cleaning and Pre-processing"
   ]
  },
  {
   "cell_type": "code",
   "execution_count": 6,
   "metadata": {},
   "outputs": [
    {
     "name": "stdout",
     "output_type": "stream",
     "text": [
      "False\n"
     ]
    }
   ],
   "source": [
    "# Is there any null values?\n",
    "print(data.isnull().values.any())"
   ]
  },
  {
   "cell_type": "code",
   "execution_count": 7,
   "metadata": {},
   "outputs": [
    {
     "name": "stdout",
     "output_type": "stream",
     "text": [
      "<class 'pandas.core.frame.DataFrame'>\n",
      "RangeIndex: 993 entries, 0 to 992\n",
      "Data columns (total 2 columns):\n",
      " #   Column  Non-Null Count  Dtype  \n",
      "---  ------  --------------  -----  \n",
      " 0   SMILES  993 non-null    object \n",
      " 1   pK_BHX  993 non-null    float64\n",
      "dtypes: float64(1), object(1)\n",
      "memory usage: 15.6+ KB\n"
     ]
    }
   ],
   "source": [
    "data.info()"
   ]
  },
  {
   "cell_type": "code",
   "execution_count": 5,
   "metadata": {},
   "outputs": [],
   "source": [
    "# There might be one or more valid SMILES that can represent one compound\n",
    "# Generate Canonical SMILES\n",
    "def canonical_smiles(smiles):\n",
    "    mols = [Chem.MolFromSmiles(smi) for smi in smiles]\n",
    "    smiles = [Chem.MolToSmiles(mol) for mol in mols]\n",
    "    return smiles"
   ]
  },
  {
   "cell_type": "code",
   "execution_count": 6,
   "metadata": {},
   "outputs": [],
   "source": [
    "Canon_SMILES = canonical_smiles(data.SMILES)\n",
    "\n",
    "# Put the smiles in the dataframe\n",
    "data['SMILES'] = Canon_SMILES"
   ]
  },
  {
   "cell_type": "code",
   "execution_count": 10,
   "metadata": {},
   "outputs": [
    {
     "name": "stdout",
     "output_type": "stream",
     "text": [
      "0 duplicated records in 993 total records.\n",
      " Resulting in 0.0% of duplicated records.\n"
     ]
    }
   ],
   "source": [
    "# Analyzing the duplicates\n",
    "print(f'{data.duplicated().sum()} duplicated records in {len(data)} total records.\\n',\n",
    "      f'Resulting in {data.duplicated().sum()/len(data)*100:.1f}% of duplicated records.')"
   ]
  },
  {
   "cell_type": "code",
   "execution_count": 7,
   "metadata": {},
   "outputs": [],
   "source": [
    "# The RDKit package calculates the molecular descriptors like\n",
    "# molecular weight, the number of valence electrons, and the maximum\n",
    "# and minimum partial charge for all molecules using as input the\n",
    "# SMILE representation.\n",
    "calc = MoleculeDescriptors.MolecularDescriptorCalculator([x[0] for x in Descriptors._descList])\n",
    "rdkit_2d_desc = []\n",
    "for k in range(len(data)):\n",
    "  header = calc.GetDescriptorNames()\n",
    "  d = calc.CalcDescriptors(Chem.MolFromSmiles(data.iloc[k, 0]))\n",
    "  rdkit_2d_desc.append(d)\n",
    "\n",
    "temp_df = pd.DataFrame(rdkit_2d_desc, columns=header)  \n",
    "\n",
    "data = pd.concat([data, temp_df], axis=1)"
   ]
  },
  {
   "cell_type": "code",
   "execution_count": 8,
   "metadata": {},
   "outputs": [
    {
     "name": "stdout",
     "output_type": "stream",
     "text": [
      "True\n"
     ]
    }
   ],
   "source": [
    "# Is there any null values?\n",
    "print(data.isnull().values.any())"
   ]
  },
  {
   "cell_type": "code",
   "execution_count": 30,
   "metadata": {},
   "outputs": [
    {
     "data": {
      "text/html": [
       "<div>\n",
       "<style scoped>\n",
       "    .dataframe tbody tr th:only-of-type {\n",
       "        vertical-align: middle;\n",
       "    }\n",
       "\n",
       "    .dataframe tbody tr th {\n",
       "        vertical-align: top;\n",
       "    }\n",
       "\n",
       "    .dataframe thead th {\n",
       "        text-align: right;\n",
       "    }\n",
       "</style>\n",
       "<table border=\"1\" class=\"dataframe\">\n",
       "  <thead>\n",
       "    <tr style=\"text-align: right;\">\n",
       "      <th></th>\n",
       "      <th>SMILES</th>\n",
       "      <th>pK_BHX</th>\n",
       "      <th>MaxEStateIndex</th>\n",
       "      <th>MinEStateIndex</th>\n",
       "      <th>MaxAbsEStateIndex</th>\n",
       "      <th>MinAbsEStateIndex</th>\n",
       "      <th>qed</th>\n",
       "      <th>MolWt</th>\n",
       "      <th>HeavyAtomMolWt</th>\n",
       "      <th>ExactMolWt</th>\n",
       "      <th>...</th>\n",
       "      <th>fr_sulfide</th>\n",
       "      <th>fr_sulfonamd</th>\n",
       "      <th>fr_sulfone</th>\n",
       "      <th>fr_term_acetylene</th>\n",
       "      <th>fr_tetrazole</th>\n",
       "      <th>fr_thiazole</th>\n",
       "      <th>fr_thiocyan</th>\n",
       "      <th>fr_thiophene</th>\n",
       "      <th>fr_unbrch_alkane</th>\n",
       "      <th>fr_urea</th>\n",
       "    </tr>\n",
       "  </thead>\n",
       "  <tbody>\n",
       "    <tr>\n",
       "      <th>697</th>\n",
       "      <td>c1ccc(C[Se](Cc2ccccc2)=[O:1])cc1</td>\n",
       "      <td>3.30</td>\n",
       "      <td>11.990193</td>\n",
       "      <td>-1.770000</td>\n",
       "      <td>11.990193</td>\n",
       "      <td>0.731879</td>\n",
       "      <td>0.785197</td>\n",
       "      <td>277.225</td>\n",
       "      <td>263.113</td>\n",
       "      <td>278.020986</td>\n",
       "      <td>...</td>\n",
       "      <td>0</td>\n",
       "      <td>0</td>\n",
       "      <td>0</td>\n",
       "      <td>0</td>\n",
       "      <td>0</td>\n",
       "      <td>0</td>\n",
       "      <td>0</td>\n",
       "      <td>0</td>\n",
       "      <td>0</td>\n",
       "      <td>0</td>\n",
       "    </tr>\n",
       "    <tr>\n",
       "      <th>698</th>\n",
       "      <td>C[Se](C)=[O:1]</td>\n",
       "      <td>3.43</td>\n",
       "      <td>9.652778</td>\n",
       "      <td>-1.291667</td>\n",
       "      <td>9.652778</td>\n",
       "      <td>1.291667</td>\n",
       "      <td>0.434580</td>\n",
       "      <td>125.029</td>\n",
       "      <td>118.981</td>\n",
       "      <td>125.958386</td>\n",
       "      <td>...</td>\n",
       "      <td>0</td>\n",
       "      <td>0</td>\n",
       "      <td>0</td>\n",
       "      <td>0</td>\n",
       "      <td>0</td>\n",
       "      <td>0</td>\n",
       "      <td>0</td>\n",
       "      <td>0</td>\n",
       "      <td>0</td>\n",
       "      <td>0</td>\n",
       "    </tr>\n",
       "    <tr>\n",
       "      <th>839</th>\n",
       "      <td>c1ccc(P(c2ccccc2)(c2ccccc2)=[Se:1])cc1</td>\n",
       "      <td>0.94</td>\n",
       "      <td>3.550556</td>\n",
       "      <td>-1.651435</td>\n",
       "      <td>3.550556</td>\n",
       "      <td>1.372593</td>\n",
       "      <td>0.507427</td>\n",
       "      <td>341.252</td>\n",
       "      <td>326.132</td>\n",
       "      <td>342.007658</td>\n",
       "      <td>...</td>\n",
       "      <td>0</td>\n",
       "      <td>0</td>\n",
       "      <td>0</td>\n",
       "      <td>0</td>\n",
       "      <td>0</td>\n",
       "      <td>0</td>\n",
       "      <td>0</td>\n",
       "      <td>0</td>\n",
       "      <td>0</td>\n",
       "      <td>0</td>\n",
       "    </tr>\n",
       "    <tr>\n",
       "      <th>847</th>\n",
       "      <td>c1ccc([As](c2ccccc2)(c2ccccc2)=[O:1])cc1</td>\n",
       "      <td>4.15</td>\n",
       "      <td>13.878819</td>\n",
       "      <td>-3.544896</td>\n",
       "      <td>13.878819</td>\n",
       "      <td>0.933356</td>\n",
       "      <td>0.675029</td>\n",
       "      <td>322.239</td>\n",
       "      <td>307.119</td>\n",
       "      <td>322.033887</td>\n",
       "      <td>...</td>\n",
       "      <td>0</td>\n",
       "      <td>0</td>\n",
       "      <td>0</td>\n",
       "      <td>0</td>\n",
       "      <td>0</td>\n",
       "      <td>0</td>\n",
       "      <td>0</td>\n",
       "      <td>0</td>\n",
       "      <td>0</td>\n",
       "      <td>0</td>\n",
       "    </tr>\n",
       "    <tr>\n",
       "      <th>903</th>\n",
       "      <td>C[Se:1]C</td>\n",
       "      <td>-0.01</td>\n",
       "      <td>2.187500</td>\n",
       "      <td>0.875000</td>\n",
       "      <td>2.187500</td>\n",
       "      <td>0.875000</td>\n",
       "      <td>0.403159</td>\n",
       "      <td>109.030</td>\n",
       "      <td>102.982</td>\n",
       "      <td>109.963471</td>\n",
       "      <td>...</td>\n",
       "      <td>0</td>\n",
       "      <td>0</td>\n",
       "      <td>0</td>\n",
       "      <td>0</td>\n",
       "      <td>0</td>\n",
       "      <td>0</td>\n",
       "      <td>0</td>\n",
       "      <td>0</td>\n",
       "      <td>0</td>\n",
       "      <td>0</td>\n",
       "    </tr>\n",
       "  </tbody>\n",
       "</table>\n",
       "<p>5 rows × 210 columns</p>\n",
       "</div>"
      ],
      "text/plain": [
       "                                       SMILES  pK_BHX  MaxEStateIndex  \\\n",
       "697          c1ccc(C[Se](Cc2ccccc2)=[O:1])cc1    3.30       11.990193   \n",
       "698                            C[Se](C)=[O:1]    3.43        9.652778   \n",
       "839    c1ccc(P(c2ccccc2)(c2ccccc2)=[Se:1])cc1    0.94        3.550556   \n",
       "847  c1ccc([As](c2ccccc2)(c2ccccc2)=[O:1])cc1    4.15       13.878819   \n",
       "903                                  C[Se:1]C   -0.01        2.187500   \n",
       "\n",
       "     MinEStateIndex  MaxAbsEStateIndex  MinAbsEStateIndex       qed    MolWt  \\\n",
       "697       -1.770000          11.990193           0.731879  0.785197  277.225   \n",
       "698       -1.291667           9.652778           1.291667  0.434580  125.029   \n",
       "839       -1.651435           3.550556           1.372593  0.507427  341.252   \n",
       "847       -3.544896          13.878819           0.933356  0.675029  322.239   \n",
       "903        0.875000           2.187500           0.875000  0.403159  109.030   \n",
       "\n",
       "     HeavyAtomMolWt  ExactMolWt  ...  fr_sulfide  fr_sulfonamd  fr_sulfone  \\\n",
       "697         263.113  278.020986  ...           0             0           0   \n",
       "698         118.981  125.958386  ...           0             0           0   \n",
       "839         326.132  342.007658  ...           0             0           0   \n",
       "847         307.119  322.033887  ...           0             0           0   \n",
       "903         102.982  109.963471  ...           0             0           0   \n",
       "\n",
       "     fr_term_acetylene  fr_tetrazole  fr_thiazole  fr_thiocyan  fr_thiophene  \\\n",
       "697                  0             0            0            0             0   \n",
       "698                  0             0            0            0             0   \n",
       "839                  0             0            0            0             0   \n",
       "847                  0             0            0            0             0   \n",
       "903                  0             0            0            0             0   \n",
       "\n",
       "     fr_unbrch_alkane  fr_urea  \n",
       "697                 0        0  \n",
       "698                 0        0  \n",
       "839                 0        0  \n",
       "847                 0        0  \n",
       "903                 0        0  \n",
       "\n",
       "[5 rows x 210 columns]"
      ]
     },
     "execution_count": 30,
     "metadata": {},
     "output_type": "execute_result"
    }
   ],
   "source": [
    "data[data.isnull().any(axis=1)]"
   ]
  },
  {
   "cell_type": "code",
   "execution_count": 31,
   "metadata": {},
   "outputs": [
    {
     "data": {
      "image/png": "[encoded data removed]",
      "text/plain": [
       "<IPython.core.display.Image object>"
      ]
     },
     "execution_count": 31,
     "metadata": {},
     "output_type": "execute_result"
    }
   ],
   "source": [
    "# Let's look at the molecules that generated descriptors with nan values\n",
    "nan_df = data[data.isnull().any(axis=1)][['SMILES']]\n",
    "mols = [Chem.MolFromSmiles(smi) for smi in nan_df.SMILES]\n",
    "Draw.MolsToGridImage(mols, molsPerRow=5, subImgSize=(200, 200))"
   ]
  },
  {
   "cell_type": "code",
   "execution_count": 32,
   "metadata": {},
   "outputs": [
    {
     "data": {
      "text/plain": [
       "['MaxPartialCharge',\n",
       " 'MinPartialCharge',\n",
       " 'MaxAbsPartialCharge',\n",
       " 'MinAbsPartialCharge',\n",
       " 'BCUT2D_MWHI',\n",
       " 'BCUT2D_MWLOW',\n",
       " 'BCUT2D_CHGHI',\n",
       " 'BCUT2D_CHGLO',\n",
       " 'BCUT2D_LOGPHI',\n",
       " 'BCUT2D_LOGPLOW',\n",
       " 'BCUT2D_MRHI',\n",
       " 'BCUT2D_MRLOW']"
      ]
     },
     "execution_count": 32,
     "metadata": {},
     "output_type": "execute_result"
    }
   ],
   "source": [
    "# Columns with nan values\n",
    "na_names = data.isnull().any()\n",
    "list(na_names.where(na_names == True).dropna().index)"
   ]
  },
  {
   "attachments": {},
   "cell_type": "markdown",
   "metadata": {},
   "source": [
    "The RDKit package failed to calculate some descriptors values, so the action taken was to attribute the missing values"
   ]
  },
  {
   "cell_type": "code",
   "execution_count": 9,
   "metadata": {},
   "outputs": [],
   "source": [
    "header = list(data.columns)\n",
    "\n",
    "# Imputing missing values with mean column value using SimpleImputer\n",
    "si = SimpleImputer(missing_values=np.nan, strategy='mean')\n",
    "si = si.fit(data.drop(columns='SMILES'))\n",
    "\n",
    "data_si = pd.DataFrame(si.transform(data.drop(columns='SMILES')))\n",
    "data = pd.concat([data['SMILES'], data_si], axis=1)\n",
    "data.columns = header"
   ]
  },
  {
   "cell_type": "code",
   "execution_count": 34,
   "metadata": {},
   "outputs": [
    {
     "name": "stdout",
     "output_type": "stream",
     "text": [
      "False\n"
     ]
    }
   ],
   "source": [
    "# Is there any null values?\n",
    "print(data.isnull().values.any())"
   ]
  },
  {
   "cell_type": "code",
   "execution_count": 10,
   "metadata": {},
   "outputs": [],
   "source": [
    "# Drop the column SMILES\n",
    "data.drop(columns=['SMILES'], inplace=True)"
   ]
  },
  {
   "cell_type": "code",
   "execution_count": 8,
   "metadata": {},
   "outputs": [
    {
     "data": {
      "text/plain": [
       "(993, 209)"
      ]
     },
     "execution_count": 8,
     "metadata": {},
     "output_type": "execute_result"
    }
   ],
   "source": [
    "data.shape"
   ]
  },
  {
   "cell_type": "code",
   "execution_count": 37,
   "metadata": {},
   "outputs": [
    {
     "data": {
      "text/html": [
       "<div>\n",
       "<style scoped>\n",
       "    .dataframe tbody tr th:only-of-type {\n",
       "        vertical-align: middle;\n",
       "    }\n",
       "\n",
       "    .dataframe tbody tr th {\n",
       "        vertical-align: top;\n",
       "    }\n",
       "\n",
       "    .dataframe thead th {\n",
       "        text-align: right;\n",
       "    }\n",
       "</style>\n",
       "<table border=\"1\" class=\"dataframe\">\n",
       "  <thead>\n",
       "    <tr style=\"text-align: right;\">\n",
       "      <th></th>\n",
       "      <th>pK_BHX</th>\n",
       "      <th>MaxEStateIndex</th>\n",
       "      <th>MinEStateIndex</th>\n",
       "      <th>MaxAbsEStateIndex</th>\n",
       "      <th>MinAbsEStateIndex</th>\n",
       "      <th>qed</th>\n",
       "      <th>MolWt</th>\n",
       "      <th>HeavyAtomMolWt</th>\n",
       "      <th>ExactMolWt</th>\n",
       "      <th>NumValenceElectrons</th>\n",
       "      <th>...</th>\n",
       "      <th>fr_sulfide</th>\n",
       "      <th>fr_sulfonamd</th>\n",
       "      <th>fr_sulfone</th>\n",
       "      <th>fr_term_acetylene</th>\n",
       "      <th>fr_tetrazole</th>\n",
       "      <th>fr_thiazole</th>\n",
       "      <th>fr_thiocyan</th>\n",
       "      <th>fr_thiophene</th>\n",
       "      <th>fr_unbrch_alkane</th>\n",
       "      <th>fr_urea</th>\n",
       "    </tr>\n",
       "  </thead>\n",
       "  <tbody>\n",
       "    <tr>\n",
       "      <th>0</th>\n",
       "      <td>0.90</td>\n",
       "      <td>10.605370</td>\n",
       "      <td>0.058426</td>\n",
       "      <td>10.605370</td>\n",
       "      <td>0.058426</td>\n",
       "      <td>0.523744</td>\n",
       "      <td>121.139</td>\n",
       "      <td>114.083</td>\n",
       "      <td>121.052764</td>\n",
       "      <td>46.0</td>\n",
       "      <td>...</td>\n",
       "      <td>0.0</td>\n",
       "      <td>0.0</td>\n",
       "      <td>0.0</td>\n",
       "      <td>0.0</td>\n",
       "      <td>0.0</td>\n",
       "      <td>0.0</td>\n",
       "      <td>0.0</td>\n",
       "      <td>0.0</td>\n",
       "      <td>0.0</td>\n",
       "      <td>0.0</td>\n",
       "    </tr>\n",
       "    <tr>\n",
       "      <th>1</th>\n",
       "      <td>1.78</td>\n",
       "      <td>5.006944</td>\n",
       "      <td>0.888889</td>\n",
       "      <td>5.006944</td>\n",
       "      <td>0.888889</td>\n",
       "      <td>0.434057</td>\n",
       "      <td>87.122</td>\n",
       "      <td>78.050</td>\n",
       "      <td>87.068414</td>\n",
       "      <td>36.0</td>\n",
       "      <td>...</td>\n",
       "      <td>0.0</td>\n",
       "      <td>0.0</td>\n",
       "      <td>0.0</td>\n",
       "      <td>0.0</td>\n",
       "      <td>0.0</td>\n",
       "      <td>0.0</td>\n",
       "      <td>0.0</td>\n",
       "      <td>0.0</td>\n",
       "      <td>0.0</td>\n",
       "      <td>0.0</td>\n",
       "    </tr>\n",
       "    <tr>\n",
       "      <th>2</th>\n",
       "      <td>1.67</td>\n",
       "      <td>3.263889</td>\n",
       "      <td>1.212963</td>\n",
       "      <td>3.263889</td>\n",
       "      <td>1.212963</td>\n",
       "      <td>0.473722</td>\n",
       "      <td>103.190</td>\n",
       "      <td>94.118</td>\n",
       "      <td>103.045570</td>\n",
       "      <td>36.0</td>\n",
       "      <td>...</td>\n",
       "      <td>1.0</td>\n",
       "      <td>0.0</td>\n",
       "      <td>0.0</td>\n",
       "      <td>0.0</td>\n",
       "      <td>0.0</td>\n",
       "      <td>0.0</td>\n",
       "      <td>0.0</td>\n",
       "      <td>0.0</td>\n",
       "      <td>0.0</td>\n",
       "      <td>0.0</td>\n",
       "    </tr>\n",
       "    <tr>\n",
       "      <th>3</th>\n",
       "      <td>1.10</td>\n",
       "      <td>3.185185</td>\n",
       "      <td>1.166667</td>\n",
       "      <td>3.185185</td>\n",
       "      <td>1.166667</td>\n",
       "      <td>0.457255</td>\n",
       "      <td>89.163</td>\n",
       "      <td>82.107</td>\n",
       "      <td>89.029920</td>\n",
       "      <td>30.0</td>\n",
       "      <td>...</td>\n",
       "      <td>1.0</td>\n",
       "      <td>0.0</td>\n",
       "      <td>0.0</td>\n",
       "      <td>0.0</td>\n",
       "      <td>0.0</td>\n",
       "      <td>0.0</td>\n",
       "      <td>0.0</td>\n",
       "      <td>0.0</td>\n",
       "      <td>0.0</td>\n",
       "      <td>0.0</td>\n",
       "    </tr>\n",
       "    <tr>\n",
       "      <th>4</th>\n",
       "      <td>1.56</td>\n",
       "      <td>5.098194</td>\n",
       "      <td>0.913194</td>\n",
       "      <td>5.098194</td>\n",
       "      <td>0.913194</td>\n",
       "      <td>0.423889</td>\n",
       "      <td>101.149</td>\n",
       "      <td>90.061</td>\n",
       "      <td>101.084064</td>\n",
       "      <td>42.0</td>\n",
       "      <td>...</td>\n",
       "      <td>0.0</td>\n",
       "      <td>0.0</td>\n",
       "      <td>0.0</td>\n",
       "      <td>0.0</td>\n",
       "      <td>0.0</td>\n",
       "      <td>0.0</td>\n",
       "      <td>0.0</td>\n",
       "      <td>0.0</td>\n",
       "      <td>0.0</td>\n",
       "      <td>0.0</td>\n",
       "    </tr>\n",
       "  </tbody>\n",
       "</table>\n",
       "<p>5 rows × 209 columns</p>\n",
       "</div>"
      ],
      "text/plain": [
       "   pK_BHX  MaxEStateIndex  MinEStateIndex  MaxAbsEStateIndex  \\\n",
       "0    0.90       10.605370        0.058426          10.605370   \n",
       "1    1.78        5.006944        0.888889           5.006944   \n",
       "2    1.67        3.263889        1.212963           3.263889   \n",
       "3    1.10        3.185185        1.166667           3.185185   \n",
       "4    1.56        5.098194        0.913194           5.098194   \n",
       "\n",
       "   MinAbsEStateIndex       qed    MolWt  HeavyAtomMolWt  ExactMolWt  \\\n",
       "0           0.058426  0.523744  121.139         114.083  121.052764   \n",
       "1           0.888889  0.434057   87.122          78.050   87.068414   \n",
       "2           1.212963  0.473722  103.190          94.118  103.045570   \n",
       "3           1.166667  0.457255   89.163          82.107   89.029920   \n",
       "4           0.913194  0.423889  101.149          90.061  101.084064   \n",
       "\n",
       "   NumValenceElectrons  ...  fr_sulfide  fr_sulfonamd  fr_sulfone  \\\n",
       "0                 46.0  ...         0.0           0.0         0.0   \n",
       "1                 36.0  ...         0.0           0.0         0.0   \n",
       "2                 36.0  ...         1.0           0.0         0.0   \n",
       "3                 30.0  ...         1.0           0.0         0.0   \n",
       "4                 42.0  ...         0.0           0.0         0.0   \n",
       "\n",
       "   fr_term_acetylene  fr_tetrazole  fr_thiazole  fr_thiocyan  fr_thiophene  \\\n",
       "0                0.0           0.0          0.0          0.0           0.0   \n",
       "1                0.0           0.0          0.0          0.0           0.0   \n",
       "2                0.0           0.0          0.0          0.0           0.0   \n",
       "3                0.0           0.0          0.0          0.0           0.0   \n",
       "4                0.0           0.0          0.0          0.0           0.0   \n",
       "\n",
       "   fr_unbrch_alkane  fr_urea  \n",
       "0               0.0      0.0  \n",
       "1               0.0      0.0  \n",
       "2               0.0      0.0  \n",
       "3               0.0      0.0  \n",
       "4               0.0      0.0  \n",
       "\n",
       "[5 rows x 209 columns]"
      ]
     },
     "execution_count": 37,
     "metadata": {},
     "output_type": "execute_result"
    }
   ],
   "source": [
    "data.head(5)"
   ]
  },
  {
   "cell_type": "code",
   "execution_count": 11,
   "metadata": {},
   "outputs": [],
   "source": [
    "data_y = data['pK_BHX'] # Dataframe with the target\n",
    "data_X = data.drop(columns=['pK_BHX']) # Dataframe with the features"
   ]
  },
  {
   "cell_type": "code",
   "execution_count": 12,
   "metadata": {},
   "outputs": [
    {
     "data": {
      "text/plain": [
       "((993, 208), (993,))"
      ]
     },
     "execution_count": 12,
     "metadata": {},
     "output_type": "execute_result"
    }
   ],
   "source": [
    "data_X.shape, data_y.shape"
   ]
  },
  {
   "cell_type": "code",
   "execution_count": 13,
   "metadata": {},
   "outputs": [],
   "source": [
    "header = list(data_X.columns)\n",
    "\n",
    "# Use a variance threshold to remove any feature that has little to no variation in their values\n",
    "vt = VarianceThreshold()\n",
    "data_X = vt.fit_transform(data_X)\n",
    "\n",
    "cols = vt.get_support(indices=True)\n",
    "\n",
    "selected_features = []\n",
    "for i in range(len(cols)):\n",
    "    selected_features.append(header[cols[i]])\n",
    "\n",
    "data_X = pd.DataFrame(data_X, columns=selected_features)"
   ]
  },
  {
   "cell_type": "code",
   "execution_count": 13,
   "metadata": {},
   "outputs": [
    {
     "data": {
      "text/plain": [
       "(993, 186)"
      ]
     },
     "execution_count": 13,
     "metadata": {},
     "output_type": "execute_result"
    }
   ],
   "source": [
    "data_X.shape"
   ]
  },
  {
   "cell_type": "code",
   "execution_count": 14,
   "metadata": {},
   "outputs": [],
   "source": [
    "# Find and remove features with Pearson\n",
    "# correlation equal to or higher than the threshold \n",
    "def correlation(dataset, threshold):\n",
    "    col_corr = set()\n",
    "    \n",
    "    corr_matrix = dataset.corr(method=\"pearson\") # Compute pairwise Pearson correlation coefficients\n",
    "    \n",
    "    for i in range(len(corr_matrix.columns)):\n",
    "        for j in range(i):\n",
    "            if abs(corr_matrix.iloc[i][j]) >= threshold:\n",
    "                colname = corr_matrix.columns[i]\n",
    "                col_corr.add(colname)\n",
    "    \n",
    "    dataset.drop(col_corr, axis=1, inplace=True)\n",
    "    \n",
    "    return dataset"
   ]
  },
  {
   "cell_type": "code",
   "execution_count": 15,
   "metadata": {},
   "outputs": [],
   "source": [
    "# Remove feature(s) with Pearson correlation equal to or higher than 0.95 \n",
    "data_X = correlation(data_X, 0.95)"
   ]
  },
  {
   "cell_type": "code",
   "execution_count": 15,
   "metadata": {},
   "outputs": [
    {
     "data": {
      "text/plain": [
       "(993, 156)"
      ]
     },
     "execution_count": 15,
     "metadata": {},
     "output_type": "execute_result"
    }
   ],
   "source": [
    "data_X.shape"
   ]
  },
  {
   "cell_type": "code",
   "execution_count": 16,
   "metadata": {},
   "outputs": [],
   "source": [
    "# Split Data into Training (80%) and Test set (20%)\n",
    "X_train, X_test, y_train, y_test = model_selection.train_test_split(data_X, data_y, test_size=0.2, random_state=0)"
   ]
  },
  {
   "cell_type": "code",
   "execution_count": 17,
   "metadata": {},
   "outputs": [
    {
     "data": {
      "text/plain": [
       "((794, 156), (199, 156), (794,), (199,))"
      ]
     },
     "execution_count": 17,
     "metadata": {},
     "output_type": "execute_result"
    }
   ],
   "source": [
    "X_train.shape, X_test.shape, y_train.shape, y_test.shape"
   ]
  },
  {
   "cell_type": "code",
   "execution_count": 17,
   "metadata": {},
   "outputs": [],
   "source": [
    "def my_rmse(y_test, y_pred):\n",
    "    return mean_squared_error(y_test, y_pred, squared=False)\n",
    "\n",
    "rmse_scorer = make_scorer(my_rmse, greater_is_better=False)"
   ]
  },
  {
   "attachments": {},
   "cell_type": "markdown",
   "metadata": {},
   "source": [
    "# 4. Setting Models"
   ]
  },
  {
   "attachments": {},
   "cell_type": "markdown",
   "metadata": {},
   "source": [
    "Models: \n",
    "\n",
    "1. Support Vector Machine (SVR)\n",
    "2. K-Nearest Neighbors (NN)\n",
    "3. Light Gradient Boosting (LGB)\n",
    "4. Random Forest (RF)\n",
    "5. Tree-based Pipeline Optimization Tool (TPOT)"
   ]
  },
  {
   "cell_type": "code",
   "execution_count": 19,
   "metadata": {},
   "outputs": [],
   "source": [
    "# Prepare a DataFrame that will store the scoring metrics for each model\n",
    "metrics = pd.DataFrame(index=['R**2', 'Mean Absolute Error (MAE)', 'Mean Square Error (MSE)', 'Root Mean Square Error (RMSE)'],\n",
    "                       columns=['Dummy Regressor', 'Support Vector Machine', 'Nearest Neighbors', 'Light Gradient Boosting', 'Random Forest', 'TPOT'])"
   ]
  },
  {
   "cell_type": "code",
   "execution_count": 20,
   "metadata": {},
   "outputs": [],
   "source": [
    "def gridsearch_hyper(model_name, estimator, parameter_grid):\n",
    "  gs = GridSearchCV(estimator, parameter_grid, cv=5, scoring='r2')\n",
    "\n",
    "  # Fit on Training\n",
    "  gs.fit(X_train, y_train)\n",
    "  \n",
    "  # Predict on Test\n",
    "  y_pred = gs.predict(X_test)\n",
    "\n",
    "  # Scoring\n",
    "  metrics.loc['R**2', model_name] = r2_score(y_test, y_pred)\n",
    "  metrics.loc['Mean Absolute Error (MAE)', model_name] = mean_absolute_error(y_test, y_pred)\n",
    "  metrics.loc['Mean Square Error (MSE)', model_name] = mean_squared_error(y_test, y_pred)\n",
    "  metrics.loc['Root Mean Square Error (RMSE)', model_name] = mean_squared_error(y_test, y_pred, squared=False)\n",
    "\n",
    "  print(f'Best parameters to {model_name}: {gs.best_params_}')"
   ]
  },
  {
   "cell_type": "code",
   "execution_count": 21,
   "metadata": {},
   "outputs": [],
   "source": [
    "# Space of hyperparameters and estimators we want to search through\n",
    "model_name = ['Dummy Regressor', 'Support Vector Machine', 'Nearest Neighbors', 'Light Gradient Boosting', \"Random Forest\"]\n",
    "\n",
    "parameter_grid_dr = {\n",
    "    'estimator__strategy':['mean', 'median']\n",
    "}\n",
    "\n",
    "parameter_grid_svr = {\n",
    "    'estimator__kernel':['linear', 'poly', 'rbf', 'sigmoid'],\n",
    "    'estimator__degree':[3, 4, 5],\n",
    "    'estimator__gamma':['scale', 'auto'],\n",
    "    'estimator__coef0':[0.1, 0.25, 0.5, 1.0, 3.0, 5.0],\n",
    "    'estimator__C':[0.01, 0.1, 0.25, 0.5, 1.0, 3.0, 5.0]\n",
    "}\n",
    "\n",
    "parameter_grid_nn = {\n",
    "    'estimator__n_neighbors':[5, 6, 8, 10],\n",
    "    'estimator__algorithm':['auto', 'ball_tree', 'kd_tree', 'brute'],\n",
    "    'estimator__weights':['uniform', 'distance']\n",
    "}\n",
    "\n",
    "parameter_grid_lgb = {\n",
    "    'estimator__learning_rate':[0.001, 0.01, 0.1],\n",
    "    'estimator__max_depth':[4, 6, 8, 10],\n",
    "    'estimator__tree_learner':['serial', 'feature', 'data', 'voting']\n",
    "}\n",
    "\n",
    "parameter_grid_rf = {\n",
    "    'estimator__n_estimators':[10, 25, 50, 100],\n",
    "    'estimator__criterion':['squared_error', 'absolute_error'],\n",
    "    'estimator__max_depth':[1, 2, 3, 4, 5, 6, 7, 8, 9, 10],\n",
    "    'estimator__max_features':['auto', 'sqrt', 'log2']\n",
    "}"
   ]
  },
  {
   "attachments": {},
   "cell_type": "markdown",
   "metadata": {},
   "source": [
    "Base Model: Dummy Model"
   ]
  },
  {
   "cell_type": "code",
   "execution_count": 22,
   "metadata": {},
   "outputs": [
    {
     "name": "stdout",
     "output_type": "stream",
     "text": [
      "Best parameters to Dummy Regressor: {'estimator__strategy': 'mean'}\n"
     ]
    }
   ],
   "source": [
    "model_dr = DummyRegressor()\n",
    "\n",
    "pipe = Pipeline([('scaler', StandardScaler()), ('estimator', model_dr)])\n",
    "gs_dr = gridsearch_hyper('Dummy Regressor', pipe, parameter_grid_dr)"
   ]
  },
  {
   "attachments": {},
   "cell_type": "markdown",
   "metadata": {},
   "source": [
    "1st Model: Support Vector Machine (SVR)"
   ]
  },
  {
   "cell_type": "code",
   "execution_count": 24,
   "metadata": {},
   "outputs": [
    {
     "name": "stdout",
     "output_type": "stream",
     "text": [
      "Best parameters to Support Vector Machine: {'estimator__C': 3.0, 'estimator__coef0': 0.1, 'estimator__degree': 3, 'estimator__gamma': 'auto', 'estimator__kernel': 'rbf'}\n"
     ]
    }
   ],
   "source": [
    "model_svr = SVR()\n",
    "\n",
    "pipe = Pipeline([('scaler', StandardScaler()), ('estimator', model_svr)])\n",
    "gs_svr = gridsearch_hyper('Support Vector Machine', pipe, parameter_grid_svr)"
   ]
  },
  {
   "attachments": {},
   "cell_type": "markdown",
   "metadata": {},
   "source": [
    "2nd Model: K-Nearest Neighbors (NN)"
   ]
  },
  {
   "cell_type": "code",
   "execution_count": 25,
   "metadata": {},
   "outputs": [
    {
     "name": "stdout",
     "output_type": "stream",
     "text": [
      "Best parameters to Nearest Neighbors: {'estimator__algorithm': 'ball_tree', 'estimator__n_neighbors': 5, 'estimator__weights': 'distance'}\n"
     ]
    }
   ],
   "source": [
    "model_nn = KNeighborsRegressor()\n",
    "\n",
    "pipe = Pipeline([('scaler', StandardScaler()), ('estimator', model_nn)])\n",
    "gs_nn = gridsearch_hyper('Nearest Neighbors', pipe, parameter_grid_nn)"
   ]
  },
  {
   "attachments": {},
   "cell_type": "markdown",
   "metadata": {},
   "source": [
    "3rd Model: Light Gradient Boosting (LGB)"
   ]
  },
  {
   "cell_type": "code",
   "execution_count": 26,
   "metadata": {},
   "outputs": [
    {
     "name": "stdout",
     "output_type": "stream",
     "text": [
      "Best parameters to Light Gradient Boosting: {'estimator__learning_rate': 0.1, 'estimator__max_depth': 10, 'estimator__tree_learner': 'serial'}\n"
     ]
    }
   ],
   "source": [
    "model_lgb = lgb.LGBMRegressor(random_state=0, verbosity=-1)\n",
    "\n",
    "pipe = Pipeline([('scaler', StandardScaler()), ('estimator', model_lgb)])\n",
    "gs_lgb = gridsearch_hyper('Light Gradient Boosting', pipe, parameter_grid_lgb)"
   ]
  },
  {
   "attachments": {},
   "cell_type": "markdown",
   "metadata": {},
   "source": [
    "4th Model: Random Forest (RF)"
   ]
  },
  {
   "cell_type": "code",
   "execution_count": 27,
   "metadata": {},
   "outputs": [
    {
     "name": "stdout",
     "output_type": "stream",
     "text": [
      "Best parameters to Random Forest: {'estimator__criterion': 'squared_error', 'estimator__max_depth': 10, 'estimator__max_features': 'auto', 'estimator__n_estimators': 100}\n"
     ]
    }
   ],
   "source": [
    "model_rf = RandomForestRegressor(random_state=0)\n",
    "\n",
    "pipe = Pipeline([('scaler', StandardScaler()), ('estimator', model_rf)])\n",
    "gs_rf = gridsearch_hyper('Random Forest', pipe, parameter_grid_rf)"
   ]
  },
  {
   "attachments": {},
   "cell_type": "markdown",
   "metadata": {},
   "source": [
    "5th Model: Tree-based Pipeline Optimization Tool (TPOT)"
   ]
  },
  {
   "cell_type": "code",
   "execution_count": null,
   "metadata": {},
   "outputs": [
    {
     "data": {
      "application/vnd.jupyter.widget-view+json": {
       "model_id": "1f700b77869b4cef89f58762ee86c176",
       "version_major": 2,
       "version_minor": 0
      },
      "text/plain": [
       "Optimization Progress:   0%|          | 0/6000 [00:00<?, ?pipeline/s]"
      ]
     },
     "metadata": {},
     "output_type": "display_data"
    },
    {
     "name": "stdout",
     "output_type": "stream",
     "text": [
      "\n",
      "Generation 1 - Current best internal CV score: 0.8314090768719643\n",
      "\n",
      "Generation 2 - Current best internal CV score: 0.8353892974628812\n",
      "\n",
      "Generation 3 - Current best internal CV score: 0.8353892974628812\n",
      "\n",
      "Generation 4 - Current best internal CV score: 0.8353892974628812\n",
      "\n",
      "Generation 5 - Current best internal CV score: 0.8375088518744237\n",
      "\n",
      "Best pipeline: RidgeCV(ExtraTreesRegressor(input_matrix, bootstrap=True, max_features=0.25, min_samples_leaf=1, min_samples_split=9, n_estimators=100))\n"
     ]
    }
   ],
   "source": [
    "tpot_regressor = TPOTRegressor(generations=5, population_size=1000, scoring='r2', n_jobs=-1, verbosity=2, random_state=0)\n",
    "tpot_regressor.fit(X_train.values, y_train)\n",
    "tpot_regressor.export('/pkbhx/data/tpot_exported_pipeline_g5_p1000.py')"
   ]
  },
  {
   "cell_type": "code",
   "execution_count": 32,
   "metadata": {},
   "outputs": [
    {
     "data": {
      "text/plain": [
       "'c:\\\\ProgramData\\\\Anaconda3\\\\lib\\\\site-packages\\\\sklearn\\\\linear_model\\\\_least_angle.py:682:\\nConvergenceWarning: Early stopping the lars path, as the residues are small and the current\\nvalue of alpha is no longer well controlled. 176 iterations, alpha=1.592e-03,\\nprevious alpha=1.416e-03, with an active set of 109 regressors.'"
      ]
     },
     "execution_count": 32,
     "metadata": {},
     "output_type": "execute_result"
    }
   ],
   "source": [
    "import numpy as np\n",
    "import pandas as pd\n",
    "from sklearn.ensemble import ExtraTreesRegressor\n",
    "from sklearn.linear_model import RidgeCV\n",
    "from sklearn.model_selection import train_test_split\n",
    "from sklearn.pipeline import make_pipeline, make_union\n",
    "from tpot.builtins import StackingEstimator\n",
    "from tpot.export_utils import set_param_recursive\n",
    "\n",
    "# Average CV score on the training set was: 0.8375088518744237\n",
    "exported_pipeline = make_pipeline(\n",
    "    StackingEstimator(estimator=ExtraTreesRegressor(bootstrap=True, max_features=0.25, min_samples_leaf=1, min_samples_split=9, n_estimators=100)),\n",
    "    RidgeCV()\n",
    ")\n",
    "# Fix random state for all the steps in exported pipeline\n",
    "set_param_recursive(exported_pipeline.steps, 'random_state', 0)\n",
    "\n",
    "exported_pipeline.fit(X_train.values, y_train)\n",
    "\n",
    "'''c:\\ProgramData\\Anaconda3\\lib\\site-packages\\sklearn\\linear_model\\_least_angle.py:682:\n",
    "ConvergenceWarning: Early stopping the lars path, as the residues are small and the current\n",
    "value of alpha is no longer well controlled. 176 iterations, alpha=1.592e-03,\n",
    "previous alpha=1.416e-03, with an active set of 109 regressors.'''\n",
    "# To turn off this warning set max_iter=176 in the LassoLarsCV"
   ]
  },
  {
   "cell_type": "code",
   "execution_count": 33,
   "metadata": {},
   "outputs": [],
   "source": [
    "y_hat = pd.DataFrame(exported_pipeline.predict(X_test))"
   ]
  },
  {
   "cell_type": "code",
   "execution_count": 34,
   "metadata": {},
   "outputs": [],
   "source": [
    "metrics.loc['R**2', 'TPOT'] = r2_score(y_test, y_hat)\n",
    "metrics.loc['Mean Absolute Error (MAE)', 'TPOT'] = mean_absolute_error(y_test, y_hat)\n",
    "metrics.loc['Mean Square Error (MSE)', 'TPOT'] = mean_squared_error(y_test, y_hat)\n",
    "metrics.loc['Root Mean Square Error (RMSE)', 'TPOT'] = mean_squared_error(y_test, y_hat, squared=False)"
   ]
  },
  {
   "attachments": {},
   "cell_type": "markdown",
   "metadata": {},
   "source": [
    "# 5. Evaluating the Models"
   ]
  },
  {
   "cell_type": "code",
   "execution_count": 35,
   "metadata": {},
   "outputs": [
    {
     "data": {
      "text/html": [
       "<div>\n",
       "<style scoped>\n",
       "    .dataframe tbody tr th:only-of-type {\n",
       "        vertical-align: middle;\n",
       "    }\n",
       "\n",
       "    .dataframe tbody tr th {\n",
       "        vertical-align: top;\n",
       "    }\n",
       "\n",
       "    .dataframe thead th {\n",
       "        text-align: right;\n",
       "    }\n",
       "</style>\n",
       "<table border=\"1\" class=\"dataframe\">\n",
       "  <thead>\n",
       "    <tr style=\"text-align: right;\">\n",
       "      <th></th>\n",
       "      <th>Dummy Regressor</th>\n",
       "      <th>Support Vector Machine</th>\n",
       "      <th>Nearest Neighbors</th>\n",
       "      <th>Light Gradient Boosting</th>\n",
       "      <th>Random Forest</th>\n",
       "      <th>TPOT</th>\n",
       "    </tr>\n",
       "  </thead>\n",
       "  <tbody>\n",
       "    <tr>\n",
       "      <th>R**2</th>\n",
       "      <td>-0.005299</td>\n",
       "      <td>0.76658</td>\n",
       "      <td>0.722685</td>\n",
       "      <td>0.772499</td>\n",
       "      <td>0.770272</td>\n",
       "      <td>0.798835</td>\n",
       "    </tr>\n",
       "    <tr>\n",
       "      <th>Mean Absolute Error (MAE)</th>\n",
       "      <td>0.732584</td>\n",
       "      <td>0.27298</td>\n",
       "      <td>0.324339</td>\n",
       "      <td>0.276302</td>\n",
       "      <td>0.283361</td>\n",
       "      <td>0.250666</td>\n",
       "    </tr>\n",
       "    <tr>\n",
       "      <th>Mean Square Error (MSE)</th>\n",
       "      <td>0.850519</td>\n",
       "      <td>0.197481</td>\n",
       "      <td>0.234618</td>\n",
       "      <td>0.192474</td>\n",
       "      <td>0.194358</td>\n",
       "      <td>0.170193</td>\n",
       "    </tr>\n",
       "    <tr>\n",
       "      <th>Root Mean Square Error (RMSE)</th>\n",
       "      <td>0.922236</td>\n",
       "      <td>0.444389</td>\n",
       "      <td>0.484374</td>\n",
       "      <td>0.438719</td>\n",
       "      <td>0.440861</td>\n",
       "      <td>0.412544</td>\n",
       "    </tr>\n",
       "  </tbody>\n",
       "</table>\n",
       "</div>"
      ],
      "text/plain": [
       "                              Dummy Regressor Support Vector Machine  \\\n",
       "R**2                                -0.005299                0.76658   \n",
       "Mean Absolute Error (MAE)            0.732584                0.27298   \n",
       "Mean Square Error (MSE)              0.850519               0.197481   \n",
       "Root Mean Square Error (RMSE)        0.922236               0.444389   \n",
       "\n",
       "                              Nearest Neighbors Light Gradient Boosting  \\\n",
       "R**2                                   0.722685                0.772499   \n",
       "Mean Absolute Error (MAE)              0.324339                0.276302   \n",
       "Mean Square Error (MSE)                0.234618                0.192474   \n",
       "Root Mean Square Error (RMSE)          0.484374                0.438719   \n",
       "\n",
       "                              Random Forest      TPOT  \n",
       "R**2                               0.770272  0.798835  \n",
       "Mean Absolute Error (MAE)          0.283361  0.250666  \n",
       "Mean Square Error (MSE)            0.194358  0.170193  \n",
       "Root Mean Square Error (RMSE)      0.440861  0.412544  "
      ]
     },
     "execution_count": 35,
     "metadata": {},
     "output_type": "execute_result"
    }
   ],
   "source": [
    "metrics"
   ]
  },
  {
   "cell_type": "code",
   "execution_count": 242,
   "metadata": {},
   "outputs": [],
   "source": [
    "# Confidence Intervals (CI) for R**2\n",
    "# k is the number of independent variables and n is the number of abservations\n",
    "# Based in Applied Multiple Regression/Correlation Analysis for the Behavioral Sciences\n",
    "def rsquareCI(r2, n, k):\n",
    "    se = sqrt((4*(r2**2))*((1-r2)**2)*(n-k-1)**2)/((n**2-1)*(n+3))\n",
    "\n",
    "    # For CI=95% use the constant multiplier =2\n",
    "    upper = r2+2*se\n",
    "    lower = r2-2*se\n",
    "    return r2, upper, lower"
   ]
  },
  {
   "cell_type": "code",
   "execution_count": 243,
   "metadata": {},
   "outputs": [],
   "source": [
    "models = metrics.columns"
   ]
  },
  {
   "cell_type": "code",
   "execution_count": 244,
   "metadata": {},
   "outputs": [
    {
     "data": {
      "text/plain": [
       "Index(['Dummy Regressor', 'Support Vector Machine', 'Nearest Neighbors',\n",
       "       'Light Gradient Boosting', 'Random Forest', 'TPOT'],\n",
       "      dtype='object')"
      ]
     },
     "execution_count": 244,
     "metadata": {},
     "output_type": "execute_result"
    }
   ],
   "source": [
    "models"
   ]
  },
  {
   "cell_type": "code",
   "execution_count": 262,
   "metadata": {},
   "outputs": [],
   "source": [
    "list_metrics = []\n",
    "for i in range(metrics.shape[1]):\n",
    "    #test_df.append(rsquareCI(metrics.iloc[0, i], X_test.shape[1], X_test.shape[0]))\n",
    "    list_metrics.append(rsquareCI(metrics.iloc[0, i], X_test.shape[1], X_test.shape[0]))"
   ]
  },
  {
   "cell_type": "code",
   "execution_count": 260,
   "metadata": {},
   "outputs": [
    {
     "data": {
      "text/plain": [
       "[(-0.005298625766562148, -0.005298383472635142, -0.0052988680604891545),\n",
       " (0.7665802900785306, 0.7665884292344203, 0.7665721509226409),\n",
       " (0.7226849726996735, 0.7226940887480486, 0.7226758566512983),\n",
       " (0.772498763536811, 0.7725067575663234, 0.7724907695072987),\n",
       " (0.7702719075072888, 0.7702799565152783, 0.7702638584992993),\n",
       " (0.7988350684617141, 0.7988423780613221, 0.7988277588621062)]"
      ]
     },
     "execution_count": 260,
     "metadata": {},
     "output_type": "execute_result"
    }
   ],
   "source": [
    "list_metrics"
   ]
  },
  {
   "cell_type": "code",
   "execution_count": 261,
   "metadata": {},
   "outputs": [
    {
     "ename": "AttributeError",
     "evalue": "'list' object has no attribute 'to_list'",
     "output_type": "error",
     "traceback": [
      "\u001b[1;31m---------------------------------------------------------------------------\u001b[0m",
      "\u001b[1;31mAttributeError\u001b[0m                            Traceback (most recent call last)",
      "\u001b[1;32m~\\AppData\\Local\\Temp\\ipykernel_12244\\1830385089.py\u001b[0m in \u001b[0;36m<module>\u001b[1;34m\u001b[0m\n\u001b[1;32m----> 1\u001b[1;33m \u001b[0mlist_metrics\u001b[0m \u001b[1;33m=\u001b[0m \u001b[0mpd\u001b[0m\u001b[1;33m.\u001b[0m\u001b[0mDataFrame\u001b[0m\u001b[1;33m(\u001b[0m\u001b[0mlist_metrics\u001b[0m\u001b[1;33m.\u001b[0m\u001b[0mto_list\u001b[0m\u001b[1;33m(\u001b[0m\u001b[1;33m)\u001b[0m\u001b[1;33m,\u001b[0m \u001b[0mcolumns\u001b[0m \u001b[1;33m=\u001b[0m \u001b[1;33m[\u001b[0m\u001b[1;34m'R**2'\u001b[0m\u001b[1;33m,\u001b[0m \u001b[1;34m'R**2_Upper'\u001b[0m\u001b[1;33m,\u001b[0m \u001b[1;34m'R**2_Lower'\u001b[0m\u001b[1;33m]\u001b[0m\u001b[1;33m)\u001b[0m\u001b[1;33m\u001b[0m\u001b[1;33m\u001b[0m\u001b[0m\n\u001b[0m",
      "\u001b[1;31mAttributeError\u001b[0m: 'list' object has no attribute 'to_list'"
     ]
    }
   ],
   "source": [
    "list_metrics = pd.DataFrame(list_metrics.to_list(), columns = ['R**2', 'R**2_Upper', 'R**2_Lower'])"
   ]
  },
  {
   "cell_type": "code",
   "execution_count": 249,
   "metadata": {},
   "outputs": [],
   "source": [
    "r2_scorer = pd.DataFrame()\n",
    "r2_scorer['Model'] = models\n",
    "#r2_scorer = pd.DataFrame(columns=['Model', 'R**2', 'R**2_Upper', 'R**2_Lower'])\n",
    "r2_scorer['Metrics'] = mylist"
   ]
  },
  {
   "cell_type": "code",
   "execution_count": 250,
   "metadata": {},
   "outputs": [
    {
     "data": {
      "text/html": [
       "<div>\n",
       "<style scoped>\n",
       "    .dataframe tbody tr th:only-of-type {\n",
       "        vertical-align: middle;\n",
       "    }\n",
       "\n",
       "    .dataframe tbody tr th {\n",
       "        vertical-align: top;\n",
       "    }\n",
       "\n",
       "    .dataframe thead th {\n",
       "        text-align: right;\n",
       "    }\n",
       "</style>\n",
       "<table border=\"1\" class=\"dataframe\">\n",
       "  <thead>\n",
       "    <tr style=\"text-align: right;\">\n",
       "      <th></th>\n",
       "      <th>Model</th>\n",
       "      <th>Metrics</th>\n",
       "    </tr>\n",
       "  </thead>\n",
       "  <tbody>\n",
       "    <tr>\n",
       "      <th>0</th>\n",
       "      <td>Dummy Regressor</td>\n",
       "      <td>(-0.005298625766562148, -0.005298383472635142,...</td>\n",
       "    </tr>\n",
       "    <tr>\n",
       "      <th>1</th>\n",
       "      <td>Support Vector Machine</td>\n",
       "      <td>(0.7665802900785306, 0.7665884292344203, 0.766...</td>\n",
       "    </tr>\n",
       "    <tr>\n",
       "      <th>2</th>\n",
       "      <td>Nearest Neighbors</td>\n",
       "      <td>(0.7226849726996735, 0.7226940887480486, 0.722...</td>\n",
       "    </tr>\n",
       "    <tr>\n",
       "      <th>3</th>\n",
       "      <td>Light Gradient Boosting</td>\n",
       "      <td>(0.772498763536811, 0.7725067575663234, 0.7724...</td>\n",
       "    </tr>\n",
       "    <tr>\n",
       "      <th>4</th>\n",
       "      <td>Random Forest</td>\n",
       "      <td>(0.7702719075072888, 0.7702799565152783, 0.770...</td>\n",
       "    </tr>\n",
       "    <tr>\n",
       "      <th>5</th>\n",
       "      <td>TPOT</td>\n",
       "      <td>(0.7988350684617141, 0.7988423780613221, 0.798...</td>\n",
       "    </tr>\n",
       "  </tbody>\n",
       "</table>\n",
       "</div>"
      ],
      "text/plain": [
       "                     Model                                            Metrics\n",
       "0          Dummy Regressor  (-0.005298625766562148, -0.005298383472635142,...\n",
       "1   Support Vector Machine  (0.7665802900785306, 0.7665884292344203, 0.766...\n",
       "2        Nearest Neighbors  (0.7226849726996735, 0.7226940887480486, 0.722...\n",
       "3  Light Gradient Boosting  (0.772498763536811, 0.7725067575663234, 0.7724...\n",
       "4            Random Forest  (0.7702719075072888, 0.7702799565152783, 0.770...\n",
       "5                     TPOT  (0.7988350684617141, 0.7988423780613221, 0.798..."
      ]
     },
     "execution_count": 250,
     "metadata": {},
     "output_type": "execute_result"
    }
   ],
   "source": [
    "r2_scorer"
   ]
  },
  {
   "cell_type": "code",
   "execution_count": 1,
   "metadata": {},
   "outputs": [
    {
     "ename": "NameError",
     "evalue": "name 'pd' is not defined",
     "output_type": "error",
     "traceback": [
      "\u001b[1;31m---------------------------------------------------------------------------\u001b[0m",
      "\u001b[1;31mNameError\u001b[0m                                 Traceback (most recent call last)",
      "\u001b[1;32m~\\AppData\\Local\\Temp\\ipykernel_11692\\3930602165.py\u001b[0m in \u001b[0;36m<module>\u001b[1;34m\u001b[0m\n\u001b[1;32m----> 1\u001b[1;33m \u001b[0mr2_scorer\u001b[0m \u001b[1;33m=\u001b[0m \u001b[0mpd\u001b[0m\u001b[1;33m.\u001b[0m\u001b[0mDataFrame\u001b[0m\u001b[1;33m(\u001b[0m\u001b[0mr2_scorer\u001b[0m\u001b[1;33m[\u001b[0m\u001b[1;34m'Metrics'\u001b[0m\u001b[1;33m]\u001b[0m\u001b[1;33m.\u001b[0m\u001b[0mto_list\u001b[0m\u001b[1;33m(\u001b[0m\u001b[1;33m)\u001b[0m\u001b[1;33m,\u001b[0m \u001b[0mcolumns\u001b[0m \u001b[1;33m=\u001b[0m \u001b[1;33m[\u001b[0m\u001b[1;34m'R**2'\u001b[0m\u001b[1;33m,\u001b[0m \u001b[1;34m'R**2_Upper'\u001b[0m\u001b[1;33m,\u001b[0m \u001b[1;34m'R**2_Lower'\u001b[0m\u001b[1;33m]\u001b[0m\u001b[1;33m)\u001b[0m\u001b[1;33m\u001b[0m\u001b[1;33m\u001b[0m\u001b[0m\n\u001b[0m\u001b[0;32m      2\u001b[0m \u001b[1;31m#r2_scorer['Model'] = models\u001b[0m\u001b[1;33m\u001b[0m\u001b[1;33m\u001b[0m\u001b[0m\n",
      "\u001b[1;31mNameError\u001b[0m: name 'pd' is not defined"
     ]
    }
   ],
   "source": [
    "r2_scorer = pd.DataFrame(r2_scorer['Metrics'].to_list(), columns = ['R**2', 'R**2_Upper', 'R**2_Lower'])\n",
    "#r2_scorer['Model'] = models"
   ]
  },
  {
   "cell_type": "code",
   "execution_count": 240,
   "metadata": {},
   "outputs": [
    {
     "data": {
      "text/html": [
       "<div>\n",
       "<style scoped>\n",
       "    .dataframe tbody tr th:only-of-type {\n",
       "        vertical-align: middle;\n",
       "    }\n",
       "\n",
       "    .dataframe tbody tr th {\n",
       "        vertical-align: top;\n",
       "    }\n",
       "\n",
       "    .dataframe thead th {\n",
       "        text-align: right;\n",
       "    }\n",
       "</style>\n",
       "<table border=\"1\" class=\"dataframe\">\n",
       "  <thead>\n",
       "    <tr style=\"text-align: right;\">\n",
       "      <th></th>\n",
       "      <th>Model</th>\n",
       "      <th>Metrics</th>\n",
       "    </tr>\n",
       "  </thead>\n",
       "  <tbody>\n",
       "    <tr>\n",
       "      <th>0</th>\n",
       "      <td>Dummy Regressor</td>\n",
       "      <td>(-0.005298625766562148, -0.005298383472635142,...</td>\n",
       "    </tr>\n",
       "    <tr>\n",
       "      <th>1</th>\n",
       "      <td>Support Vector Machine</td>\n",
       "      <td>(0.7665802900785306, 0.7665884292344203, 0.766...</td>\n",
       "    </tr>\n",
       "    <tr>\n",
       "      <th>2</th>\n",
       "      <td>Nearest Neighbors</td>\n",
       "      <td>(0.7226849726996735, 0.7226940887480486, 0.722...</td>\n",
       "    </tr>\n",
       "    <tr>\n",
       "      <th>3</th>\n",
       "      <td>Light Gradient Boosting</td>\n",
       "      <td>(0.772498763536811, 0.7725067575663234, 0.7724...</td>\n",
       "    </tr>\n",
       "    <tr>\n",
       "      <th>4</th>\n",
       "      <td>Random Forest</td>\n",
       "      <td>(0.7702719075072888, 0.7702799565152783, 0.770...</td>\n",
       "    </tr>\n",
       "    <tr>\n",
       "      <th>5</th>\n",
       "      <td>TPOT</td>\n",
       "      <td>(0.7988350684617141, 0.7988423780613221, 0.798...</td>\n",
       "    </tr>\n",
       "  </tbody>\n",
       "</table>\n",
       "</div>"
      ],
      "text/plain": [
       "                     Model                                            Metrics\n",
       "0          Dummy Regressor  (-0.005298625766562148, -0.005298383472635142,...\n",
       "1   Support Vector Machine  (0.7665802900785306, 0.7665884292344203, 0.766...\n",
       "2        Nearest Neighbors  (0.7226849726996735, 0.7226940887480486, 0.722...\n",
       "3  Light Gradient Boosting  (0.772498763536811, 0.7725067575663234, 0.7724...\n",
       "4            Random Forest  (0.7702719075072888, 0.7702799565152783, 0.770...\n",
       "5                     TPOT  (0.7988350684617141, 0.7988423780613221, 0.798..."
      ]
     },
     "execution_count": 240,
     "metadata": {},
     "output_type": "execute_result"
    }
   ],
   "source": [
    "r2_scorer"
   ]
  },
  {
   "cell_type": "code",
   "execution_count": 171,
   "metadata": {},
   "outputs": [
    {
     "data": {
      "text/html": [
       "<div>\n",
       "<style scoped>\n",
       "    .dataframe tbody tr th:only-of-type {\n",
       "        vertical-align: middle;\n",
       "    }\n",
       "\n",
       "    .dataframe tbody tr th {\n",
       "        vertical-align: top;\n",
       "    }\n",
       "\n",
       "    .dataframe thead th {\n",
       "        text-align: right;\n",
       "    }\n",
       "</style>\n",
       "<table border=\"1\" class=\"dataframe\">\n",
       "  <thead>\n",
       "    <tr style=\"text-align: right;\">\n",
       "      <th></th>\n",
       "      <th>Model</th>\n",
       "      <th>R**2</th>\n",
       "      <th>R**2_Upper</th>\n",
       "      <th>R**2_Lower</th>\n",
       "    </tr>\n",
       "  </thead>\n",
       "  <tbody>\n",
       "    <tr>\n",
       "      <th>0</th>\n",
       "      <td>Dummy Regressor</td>\n",
       "      <td>NaN</td>\n",
       "      <td>NaN</td>\n",
       "      <td>NaN</td>\n",
       "    </tr>\n",
       "    <tr>\n",
       "      <th>1</th>\n",
       "      <td>Support Vector Machine</td>\n",
       "      <td>NaN</td>\n",
       "      <td>NaN</td>\n",
       "      <td>NaN</td>\n",
       "    </tr>\n",
       "    <tr>\n",
       "      <th>2</th>\n",
       "      <td>Nearest Neighbors</td>\n",
       "      <td>NaN</td>\n",
       "      <td>NaN</td>\n",
       "      <td>NaN</td>\n",
       "    </tr>\n",
       "    <tr>\n",
       "      <th>3</th>\n",
       "      <td>Light Gradient Boosting</td>\n",
       "      <td>NaN</td>\n",
       "      <td>NaN</td>\n",
       "      <td>NaN</td>\n",
       "    </tr>\n",
       "    <tr>\n",
       "      <th>4</th>\n",
       "      <td>Random Forest</td>\n",
       "      <td>NaN</td>\n",
       "      <td>NaN</td>\n",
       "      <td>NaN</td>\n",
       "    </tr>\n",
       "    <tr>\n",
       "      <th>5</th>\n",
       "      <td>TPOT</td>\n",
       "      <td>NaN</td>\n",
       "      <td>NaN</td>\n",
       "      <td>NaN</td>\n",
       "    </tr>\n",
       "  </tbody>\n",
       "</table>\n",
       "</div>"
      ],
      "text/plain": [
       "                     Model R**2 R**2_Upper R**2_Lower\n",
       "0          Dummy Regressor  NaN        NaN        NaN\n",
       "1   Support Vector Machine  NaN        NaN        NaN\n",
       "2        Nearest Neighbors  NaN        NaN        NaN\n",
       "3  Light Gradient Boosting  NaN        NaN        NaN\n",
       "4            Random Forest  NaN        NaN        NaN\n",
       "5                     TPOT  NaN        NaN        NaN"
      ]
     },
     "execution_count": 171,
     "metadata": {},
     "output_type": "execute_result"
    }
   ],
   "source": [
    "test_df"
   ]
  },
  {
   "cell_type": "code",
   "execution_count": 61,
   "metadata": {},
   "outputs": [
    {
     "data": {
      "image/png": "[encoded data removed]",
      "text/plain": [
       "<Figure size 500x400 with 1 Axes>"
      ]
     },
     "metadata": {},
     "output_type": "display_data"
    }
   ],
   "source": [
    "fig, ax = plt.subplots(figsize=(5, 4))\n",
    "metrics.plot(kind='barh', ax=ax)\n",
    "ax.grid()\n",
    "ax.set_title('Comparing the Six Models')\n",
    "plt.legend(['DR', 'SVM', 'NN', 'LGB', 'RF', 'TPOT'], loc=4, shadow=True)\n",
    "plt.annotate('Close to 0 is better', xy=(0.1, 0.58))\n",
    "plt.annotate('Close to 1 or -1 is better', xy=(0.1, 0.3))\n",
    "plt.axhline(y=0.5, linestyle='--')\n",
    "plt.show()"
   ]
  },
  {
   "cell_type": "code",
   "execution_count": 62,
   "metadata": {},
   "outputs": [
    {
     "data": {
      "image/png": "[encoded data removed]",
      "text/plain": [
       "<Figure size 800x550 with 1 Axes>"
      ]
     },
     "metadata": {},
     "output_type": "display_data"
    },
    {
     "data": {
      "text/plain": [
       "<AxesSubplot:title={'center':'Prediction Error for RidgeCV'}, xlabel='$y$', ylabel='$\\\\hat{y}$'>"
      ]
     },
     "execution_count": 62,
     "metadata": {},
     "output_type": "execute_result"
    }
   ],
   "source": [
    "# Instantiate the linear model and visualizer\n",
    "pred_visualizer = PredictionError(exported_pipeline)\n",
    "\n",
    "pred_visualizer.fit(X_train, y_train)  # Fit the training data to the visualizer\n",
    "pred_visualizer.score(X_test, y_test)  # Evaluate the model on the test data\n",
    "pred_visualizer.ax.set_xlim(left=-2, right=5)\n",
    "pred_visualizer.ax.set_ylim(bottom=-2, top=5)\n",
    "pred_visualizer.ax.grid(False)\n",
    "pred_visualizer.show()                 # Finalize and render the figure"
   ]
  },
  {
   "cell_type": "code",
   "execution_count": 63,
   "metadata": {},
   "outputs": [
    {
     "data": {
      "image/png": "[encoded data removed]",
      "text/plain": [
       "<Figure size 800x550 with 2 Axes>"
      ]
     },
     "metadata": {},
     "output_type": "display_data"
    },
    {
     "data": {
      "text/plain": [
       "<AxesSubplot:title={'center':'Residuals for RidgeCV Model'}, xlabel='Predicted Value', ylabel='Residuals'>"
      ]
     },
     "execution_count": 63,
     "metadata": {},
     "output_type": "execute_result"
    }
   ],
   "source": [
    "res_visualizer = ResidualsPlot(exported_pipeline)\n",
    "\n",
    "res_visualizer.fit(X_train, y_train)  # Fit the training data to the visualizer\n",
    "res_visualizer.score(X_test, y_test)  # Evaluate the model on the test data\n",
    "res_visualizer.ax.grid(False)\n",
    "res_visualizer.show()  "
   ]
  },
  {
   "cell_type": "code",
   "execution_count": 65,
   "metadata": {},
   "outputs": [
    {
     "data": {
      "image/png": "[encoded data removed]",
      "text/plain": [
       "<Figure size 800x550 with 1 Axes>"
      ]
     },
     "metadata": {},
     "output_type": "display_data"
    },
    {
     "data": {
      "text/plain": [
       "<AxesSubplot:title={'center':'Learning Curve for RidgeCV'}, xlabel='Training Instances', ylabel='Score'>"
      ]
     },
     "execution_count": 65,
     "metadata": {},
     "output_type": "execute_result"
    }
   ],
   "source": [
    "from yellowbrick.model_selection import LearningCurve\n",
    "\n",
    "visualizer = LearningCurve(exported_pipeline, scoring='r2')\n",
    "\n",
    "visualizer.fit(X_train.values, y_train)        # Fit the data to the visualizer\n",
    "visualizer.show()           # Finalize and render the figure"
   ]
  },
  {
   "cell_type": "code",
   "execution_count": 67,
   "metadata": {},
   "outputs": [],
   "source": [
    "y_hat.columns = ['pkbhx']"
   ]
  },
  {
   "cell_type": "code",
   "execution_count": 68,
   "metadata": {},
   "outputs": [
    {
     "data": {
      "image/png": "[encoded data removed]",
      "text/plain": [
       "<Figure size 600x300 with 1 Axes>"
      ]
     },
     "metadata": {},
     "output_type": "display_data"
    }
   ],
   "source": [
    "fig, ax = plt.subplots(figsize=(6, 3))\n",
    "\n",
    "# Boxplot\n",
    "sns.boxplot(data=y_hat, x=y_hat['pkbhx'], ax=ax, showmeans=True)\n",
    "ax.set_title('Location and Variability: Box-Plot')\n",
    "\n",
    "# Check outliers\n",
    "q1 =y_hat['pkbhx'].quantile(0.25)\n",
    "q3 = y_hat['pkbhx'].quantile(0.75)\n",
    "iqr = q3 - q1\n",
    "\n",
    "# calculate the outlier cutoff\n",
    "lower, upper = q1-(1.5*iqr), q3+(1.5*iqr)\n",
    "\n",
    "outliers = (y_hat['pkbhx'][(y_hat['pkbhx'] < lower) | (y_hat['pkbhx'] > upper)])\n",
    "\n",
    "if outliers.empty:\n",
    "    has_outliers = 'No'\n",
    "else:\n",
    "    has_outliers = 'Yes'\n",
    "\n",
    "# Presenting the stats\n",
    "ax.annotate(text=f'Mean: {y_hat[\"pkbhx\"].mean():.3f}\\n'\n",
    "                    f'Median: {y_hat[\"pkbhx\"].median():.3f}\\n'\n",
    "                    f'StdDev: {y_hat[\"pkbhx\"].std():.3f}\\n'\n",
    "                    f'Outliers: {has_outliers}',\n",
    "                    xy=(1,1), xytext=(-12,-12), xycoords='axes fraction',\n",
    "                    textcoords='offset points', ha='right', va='top',\n",
    "                    bbox=dict(facecolor='grey', alpha=0.8, pad=10))\n",
    "ax.grid()\n",
    "plt.show()"
   ]
  }
 ],
 "metadata": {
  "kernelspec": {
   "display_name": "base",
   "language": "python",
   "name": "python3"
  },
  "language_info": {
   "codemirror_mode": {
    "name": "ipython",
    "version": 3
   },
   "file_extension": ".py",
   "mimetype": "text/x-python",
   "name": "python",
   "nbconvert_exporter": "python",
   "pygments_lexer": "ipython3",
   "version": "3.9.13"
  },
  "orig_nbformat": 4,
  "vscode": {
   "interpreter": {
    "hash": "ad2bdc8ecc057115af97d19610ffacc2b4e99fae6737bb82f5d7fb13d2f2c186"
   }
  }
 },
 "nbformat": 4,
 "nbformat_minor": 2
}
