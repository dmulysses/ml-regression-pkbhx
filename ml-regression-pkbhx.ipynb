{
 "cells": [
  {
   "attachments": {},
   "cell_type": "markdown",
   "metadata": {},
   "source": [
    "# 1. Preparing Tool Box"
   ]
  },
  {
   "cell_type": "code",
   "execution_count": 3,
   "metadata": {},
   "outputs": [
    {
     "name": "stdout",
     "output_type": "stream",
     "text": [
      "\\pkbhx\\data\\pkbhx.csv\n"
     ]
    }
   ],
   "source": [
    "import os\n",
    "for dirname, _, filenames in os.walk('\\pkbhx\\data'):\n",
    "    for filename in filenames:\n",
    "        print(os.path.join(dirname, filename))"
   ]
  },
  {
   "cell_type": "code",
   "execution_count": 4,
   "metadata": {},
   "outputs": [],
   "source": [
    "from rdkit import Chem\n",
    "from rdkit.Chem import Descriptors\n",
    "from rdkit.ML.Descriptors import MoleculeDescriptors\n",
    "from sklearn import model_selection\n",
    "from sklearn.impute import SimpleImputer\n",
    "from sklearn.metrics import make_scorer, mean_squared_error\n",
    "from tpot import TPOTRegressor\n",
    "\n",
    "import matplotlib.pyplot as plt\n",
    "import numpy as np\n",
    "import pandas as pd\n",
    "import seaborn as sns\n",
    "import time"
   ]
  },
  {
   "attachments": {},
   "cell_type": "markdown",
   "metadata": {},
   "source": [
    "# 2. Reading the Data"
   ]
  },
  {
   "cell_type": "code",
   "execution_count": 5,
   "metadata": {},
   "outputs": [],
   "source": [
    "# Create a DataFrame\n",
    "data = pd.read_csv('\\pkbhx\\data\\pkbhx.csv', sep=';')"
   ]
  },
  {
   "cell_type": "code",
   "execution_count": 65,
   "metadata": {},
   "outputs": [
    {
     "name": "stdout",
     "output_type": "stream",
     "text": [
      "False\n"
     ]
    }
   ],
   "source": [
    "# Is there any null values?\n",
    "print(data.isnull().values.any())"
   ]
  },
  {
   "attachments": {},
   "cell_type": "markdown",
   "metadata": {},
   "source": [
    "# 3. Data Cleaning and Pre-processing"
   ]
  },
  {
   "cell_type": "code",
   "execution_count": 66,
   "metadata": {},
   "outputs": [
    {
     "name": "stdout",
     "output_type": "stream",
     "text": [
      "<class 'pandas.core.frame.DataFrame'>\n",
      "RangeIndex: 993 entries, 0 to 992\n",
      "Data columns (total 2 columns):\n",
      " #   Column  Non-Null Count  Dtype  \n",
      "---  ------  --------------  -----  \n",
      " 0   SMILES  993 non-null    object \n",
      " 1   pK_BHX  993 non-null    float64\n",
      "dtypes: float64(1), object(1)\n",
      "memory usage: 15.6+ KB\n"
     ]
    }
   ],
   "source": [
    "data.info()"
   ]
  },
  {
   "cell_type": "code",
   "execution_count": 89,
   "metadata": {},
   "outputs": [
    {
     "name": "stdout",
     "output_type": "stream",
     "text": [
      "count    993.000000\n",
      "mean       1.145760\n",
      "std        0.992671\n",
      "min       -1.710000\n",
      "25%        0.480000\n",
      "50%        1.140000\n",
      "75%        1.940000\n",
      "max        4.150000\n",
      "Name: pK_BHX, dtype: float64\n"
     ]
    },
    {
     "data": {
      "image/png": "[encoded data removed]",
      "text/plain": [
       "<Figure size 500x400 with 1 Axes>"
      ]
     },
     "metadata": {},
     "output_type": "display_data"
    }
   ],
   "source": [
    "print(data['pK_BHX'].describe())\n",
    "\n",
    "fig, ax = plt.subplots(figsize=(5, 4))\n",
    "ax.set_ylabel('Frequency')\n",
    "ax.set_xlabel('pK_BHX')\n",
    "data['pK_BHX'].hist(bins=50,ax=ax,grid=False)\n",
    "plt.show()"
   ]
  },
  {
   "cell_type": "code",
   "execution_count": 6,
   "metadata": {},
   "outputs": [],
   "source": [
    "# There might be one or more valid SMILES that can represent one compound\n",
    "# Generate Canonical SMILES\n",
    "def canonical_smiles(smiles):\n",
    "    mols = [Chem.MolFromSmiles(smi) for smi in smiles]\n",
    "    smiles = [Chem.MolToSmiles(mol) for mol in mols]\n",
    "    return smiles"
   ]
  },
  {
   "cell_type": "code",
   "execution_count": 7,
   "metadata": {},
   "outputs": [],
   "source": [
    "Canon_SMILES = canonical_smiles(data.SMILES)\n",
    "# len(Canon_SMILES)\n",
    "\n",
    "# Put the smiles in the dataframe\n",
    "data['SMILES'] = Canon_SMILES"
   ]
  },
  {
   "cell_type": "code",
   "execution_count": 35,
   "metadata": {},
   "outputs": [
    {
     "name": "stdout",
     "output_type": "stream",
     "text": [
      "0 duplicated records in 993 total records. Resulting in 0.0% of duplicated records.\n"
     ]
    }
   ],
   "source": [
    "# Analyzing the duplicates\n",
    "print(f'{data.duplicated().sum()} duplicated records in {len(data)} total records.\\n',\n",
    "      f'Resulting in {data.duplicated().sum()/len(data)*100:.1f}% of duplicated records.')"
   ]
  },
  {
   "cell_type": "code",
   "execution_count": 8,
   "metadata": {},
   "outputs": [],
   "source": [
    "# The RDKit package calculates the molecular descriptors\n",
    "# for all molecules using as input the SMILE representation.\n",
    "calc = MoleculeDescriptors.MolecularDescriptorCalculator([x[0] for x in Descriptors._descList])\n",
    "rdkit_2d_desc = []\n",
    "for k in range(len(data)):\n",
    "  header = calc.GetDescriptorNames()\n",
    "  d = calc.CalcDescriptors(Chem.MolFromSmiles(data.iloc[k, 0]))\n",
    "  rdkit_2d_desc.append(d)\n",
    "\n",
    "temp_df = pd.DataFrame(rdkit_2d_desc, columns=header)  \n",
    "\n",
    "data = pd.concat([data, temp_df], axis=1)"
   ]
  },
  {
   "cell_type": "code",
   "execution_count": 41,
   "metadata": {},
   "outputs": [
    {
     "name": "stdout",
     "output_type": "stream",
     "text": [
      "True\n"
     ]
    }
   ],
   "source": [
    "print(data.isnull().values.any())"
   ]
  },
  {
   "cell_type": "code",
   "execution_count": 42,
   "metadata": {},
   "outputs": [
    {
     "data": {
      "text/html": [
       "<div>\n",
       "<style scoped>\n",
       "    .dataframe tbody tr th:only-of-type {\n",
       "        vertical-align: middle;\n",
       "    }\n",
       "\n",
       "    .dataframe tbody tr th {\n",
       "        vertical-align: top;\n",
       "    }\n",
       "\n",
       "    .dataframe thead th {\n",
       "        text-align: right;\n",
       "    }\n",
       "</style>\n",
       "<table border=\"1\" class=\"dataframe\">\n",
       "  <thead>\n",
       "    <tr style=\"text-align: right;\">\n",
       "      <th></th>\n",
       "      <th>SMILES</th>\n",
       "      <th>pK_BHX</th>\n",
       "      <th>MaxEStateIndex</th>\n",
       "      <th>MinEStateIndex</th>\n",
       "      <th>MaxAbsEStateIndex</th>\n",
       "      <th>MinAbsEStateIndex</th>\n",
       "      <th>qed</th>\n",
       "      <th>MolWt</th>\n",
       "      <th>HeavyAtomMolWt</th>\n",
       "      <th>ExactMolWt</th>\n",
       "      <th>...</th>\n",
       "      <th>fr_sulfide</th>\n",
       "      <th>fr_sulfonamd</th>\n",
       "      <th>fr_sulfone</th>\n",
       "      <th>fr_term_acetylene</th>\n",
       "      <th>fr_tetrazole</th>\n",
       "      <th>fr_thiazole</th>\n",
       "      <th>fr_thiocyan</th>\n",
       "      <th>fr_thiophene</th>\n",
       "      <th>fr_unbrch_alkane</th>\n",
       "      <th>fr_urea</th>\n",
       "    </tr>\n",
       "  </thead>\n",
       "  <tbody>\n",
       "    <tr>\n",
       "      <th>697</th>\n",
       "      <td>c1ccc(C[Se](Cc2ccccc2)=[O:1])cc1</td>\n",
       "      <td>3.30</td>\n",
       "      <td>11.990193</td>\n",
       "      <td>-1.770000</td>\n",
       "      <td>11.990193</td>\n",
       "      <td>0.731879</td>\n",
       "      <td>0.785197</td>\n",
       "      <td>277.225</td>\n",
       "      <td>263.113</td>\n",
       "      <td>278.020986</td>\n",
       "      <td>...</td>\n",
       "      <td>0</td>\n",
       "      <td>0</td>\n",
       "      <td>0</td>\n",
       "      <td>0</td>\n",
       "      <td>0</td>\n",
       "      <td>0</td>\n",
       "      <td>0</td>\n",
       "      <td>0</td>\n",
       "      <td>0</td>\n",
       "      <td>0</td>\n",
       "    </tr>\n",
       "    <tr>\n",
       "      <th>698</th>\n",
       "      <td>C[Se](C)=[O:1]</td>\n",
       "      <td>3.43</td>\n",
       "      <td>9.652778</td>\n",
       "      <td>-1.291667</td>\n",
       "      <td>9.652778</td>\n",
       "      <td>1.291667</td>\n",
       "      <td>0.434580</td>\n",
       "      <td>125.029</td>\n",
       "      <td>118.981</td>\n",
       "      <td>125.958386</td>\n",
       "      <td>...</td>\n",
       "      <td>0</td>\n",
       "      <td>0</td>\n",
       "      <td>0</td>\n",
       "      <td>0</td>\n",
       "      <td>0</td>\n",
       "      <td>0</td>\n",
       "      <td>0</td>\n",
       "      <td>0</td>\n",
       "      <td>0</td>\n",
       "      <td>0</td>\n",
       "    </tr>\n",
       "    <tr>\n",
       "      <th>839</th>\n",
       "      <td>c1ccc(P(c2ccccc2)(c2ccccc2)=[Se:1])cc1</td>\n",
       "      <td>0.94</td>\n",
       "      <td>3.550556</td>\n",
       "      <td>-1.651435</td>\n",
       "      <td>3.550556</td>\n",
       "      <td>1.372593</td>\n",
       "      <td>0.507427</td>\n",
       "      <td>341.252</td>\n",
       "      <td>326.132</td>\n",
       "      <td>342.007658</td>\n",
       "      <td>...</td>\n",
       "      <td>0</td>\n",
       "      <td>0</td>\n",
       "      <td>0</td>\n",
       "      <td>0</td>\n",
       "      <td>0</td>\n",
       "      <td>0</td>\n",
       "      <td>0</td>\n",
       "      <td>0</td>\n",
       "      <td>0</td>\n",
       "      <td>0</td>\n",
       "    </tr>\n",
       "    <tr>\n",
       "      <th>847</th>\n",
       "      <td>c1ccc([As](c2ccccc2)(c2ccccc2)=[O:1])cc1</td>\n",
       "      <td>4.15</td>\n",
       "      <td>13.878819</td>\n",
       "      <td>-3.544896</td>\n",
       "      <td>13.878819</td>\n",
       "      <td>0.933356</td>\n",
       "      <td>0.675029</td>\n",
       "      <td>322.239</td>\n",
       "      <td>307.119</td>\n",
       "      <td>322.033887</td>\n",
       "      <td>...</td>\n",
       "      <td>0</td>\n",
       "      <td>0</td>\n",
       "      <td>0</td>\n",
       "      <td>0</td>\n",
       "      <td>0</td>\n",
       "      <td>0</td>\n",
       "      <td>0</td>\n",
       "      <td>0</td>\n",
       "      <td>0</td>\n",
       "      <td>0</td>\n",
       "    </tr>\n",
       "    <tr>\n",
       "      <th>903</th>\n",
       "      <td>C[Se:1]C</td>\n",
       "      <td>-0.01</td>\n",
       "      <td>2.187500</td>\n",
       "      <td>0.875000</td>\n",
       "      <td>2.187500</td>\n",
       "      <td>0.875000</td>\n",
       "      <td>0.403159</td>\n",
       "      <td>109.030</td>\n",
       "      <td>102.982</td>\n",
       "      <td>109.963471</td>\n",
       "      <td>...</td>\n",
       "      <td>0</td>\n",
       "      <td>0</td>\n",
       "      <td>0</td>\n",
       "      <td>0</td>\n",
       "      <td>0</td>\n",
       "      <td>0</td>\n",
       "      <td>0</td>\n",
       "      <td>0</td>\n",
       "      <td>0</td>\n",
       "      <td>0</td>\n",
       "    </tr>\n",
       "  </tbody>\n",
       "</table>\n",
       "<p>5 rows × 210 columns</p>\n",
       "</div>"
      ],
      "text/plain": [
       "                                       SMILES  pK_BHX  MaxEStateIndex  \\\n",
       "697          c1ccc(C[Se](Cc2ccccc2)=[O:1])cc1    3.30       11.990193   \n",
       "698                            C[Se](C)=[O:1]    3.43        9.652778   \n",
       "839    c1ccc(P(c2ccccc2)(c2ccccc2)=[Se:1])cc1    0.94        3.550556   \n",
       "847  c1ccc([As](c2ccccc2)(c2ccccc2)=[O:1])cc1    4.15       13.878819   \n",
       "903                                  C[Se:1]C   -0.01        2.187500   \n",
       "\n",
       "     MinEStateIndex  MaxAbsEStateIndex  MinAbsEStateIndex       qed    MolWt  \\\n",
       "697       -1.770000          11.990193           0.731879  0.785197  277.225   \n",
       "698       -1.291667           9.652778           1.291667  0.434580  125.029   \n",
       "839       -1.651435           3.550556           1.372593  0.507427  341.252   \n",
       "847       -3.544896          13.878819           0.933356  0.675029  322.239   \n",
       "903        0.875000           2.187500           0.875000  0.403159  109.030   \n",
       "\n",
       "     HeavyAtomMolWt  ExactMolWt  ...  fr_sulfide  fr_sulfonamd  fr_sulfone  \\\n",
       "697         263.113  278.020986  ...           0             0           0   \n",
       "698         118.981  125.958386  ...           0             0           0   \n",
       "839         326.132  342.007658  ...           0             0           0   \n",
       "847         307.119  322.033887  ...           0             0           0   \n",
       "903         102.982  109.963471  ...           0             0           0   \n",
       "\n",
       "     fr_term_acetylene  fr_tetrazole  fr_thiazole  fr_thiocyan  fr_thiophene  \\\n",
       "697                  0             0            0            0             0   \n",
       "698                  0             0            0            0             0   \n",
       "839                  0             0            0            0             0   \n",
       "847                  0             0            0            0             0   \n",
       "903                  0             0            0            0             0   \n",
       "\n",
       "     fr_unbrch_alkane  fr_urea  \n",
       "697                 0        0  \n",
       "698                 0        0  \n",
       "839                 0        0  \n",
       "847                 0        0  \n",
       "903                 0        0  \n",
       "\n",
       "[5 rows x 210 columns]"
      ]
     },
     "execution_count": 42,
     "metadata": {},
     "output_type": "execute_result"
    }
   ],
   "source": [
    "data[data.isnull().any(axis=1)]"
   ]
  },
  {
   "cell_type": "code",
   "execution_count": 9,
   "metadata": {},
   "outputs": [],
   "source": [
    "header = list(data.columns)\n",
    "\n",
    "si = SimpleImputer(missing_values=np.nan, strategy='mean')\n",
    "si = si.fit(data.drop(columns='SMILES'))\n",
    "\n",
    "data_si = pd.DataFrame(si.transform(data.drop(columns='SMILES')))\n",
    "\n",
    "data = pd.concat([data['SMILES'], data_si], axis=1)\n",
    "data.columns = header"
   ]
  },
  {
   "cell_type": "code",
   "execution_count": 47,
   "metadata": {},
   "outputs": [
    {
     "name": "stdout",
     "output_type": "stream",
     "text": [
      "False\n"
     ]
    }
   ],
   "source": [
    "print(data.isnull().values.any())"
   ]
  },
  {
   "cell_type": "code",
   "execution_count": 10,
   "metadata": {},
   "outputs": [],
   "source": [
    "data.drop(columns=['SMILES'], inplace=True)"
   ]
  },
  {
   "cell_type": "code",
   "execution_count": 100,
   "metadata": {},
   "outputs": [
    {
     "name": "stdout",
     "output_type": "stream",
     "text": [
      "<class 'pandas.core.frame.DataFrame'>\n",
      "RangeIndex: 993 entries, 0 to 992\n",
      "Columns: 209 entries, pK_BHX to fr_urea\n",
      "dtypes: float64(209)\n",
      "memory usage: 1.6 MB\n"
     ]
    }
   ],
   "source": [
    "data.info()"
   ]
  },
  {
   "cell_type": "code",
   "execution_count": 101,
   "metadata": {},
   "outputs": [
    {
     "data": {
      "text/html": [
       "<div>\n",
       "<style scoped>\n",
       "    .dataframe tbody tr th:only-of-type {\n",
       "        vertical-align: middle;\n",
       "    }\n",
       "\n",
       "    .dataframe tbody tr th {\n",
       "        vertical-align: top;\n",
       "    }\n",
       "\n",
       "    .dataframe thead th {\n",
       "        text-align: right;\n",
       "    }\n",
       "</style>\n",
       "<table border=\"1\" class=\"dataframe\">\n",
       "  <thead>\n",
       "    <tr style=\"text-align: right;\">\n",
       "      <th></th>\n",
       "      <th>pK_BHX</th>\n",
       "      <th>MaxEStateIndex</th>\n",
       "      <th>MinEStateIndex</th>\n",
       "      <th>MaxAbsEStateIndex</th>\n",
       "      <th>MinAbsEStateIndex</th>\n",
       "      <th>qed</th>\n",
       "      <th>MolWt</th>\n",
       "      <th>HeavyAtomMolWt</th>\n",
       "      <th>ExactMolWt</th>\n",
       "      <th>NumValenceElectrons</th>\n",
       "      <th>...</th>\n",
       "      <th>fr_sulfide</th>\n",
       "      <th>fr_sulfonamd</th>\n",
       "      <th>fr_sulfone</th>\n",
       "      <th>fr_term_acetylene</th>\n",
       "      <th>fr_tetrazole</th>\n",
       "      <th>fr_thiazole</th>\n",
       "      <th>fr_thiocyan</th>\n",
       "      <th>fr_thiophene</th>\n",
       "      <th>fr_unbrch_alkane</th>\n",
       "      <th>fr_urea</th>\n",
       "    </tr>\n",
       "  </thead>\n",
       "  <tbody>\n",
       "    <tr>\n",
       "      <th>0</th>\n",
       "      <td>0.90</td>\n",
       "      <td>10.605370</td>\n",
       "      <td>0.058426</td>\n",
       "      <td>10.605370</td>\n",
       "      <td>0.058426</td>\n",
       "      <td>0.523744</td>\n",
       "      <td>121.139</td>\n",
       "      <td>114.083</td>\n",
       "      <td>121.052764</td>\n",
       "      <td>46.0</td>\n",
       "      <td>...</td>\n",
       "      <td>0.0</td>\n",
       "      <td>0.0</td>\n",
       "      <td>0.0</td>\n",
       "      <td>0.0</td>\n",
       "      <td>0.0</td>\n",
       "      <td>0.0</td>\n",
       "      <td>0.0</td>\n",
       "      <td>0.0</td>\n",
       "      <td>0.0</td>\n",
       "      <td>0.0</td>\n",
       "    </tr>\n",
       "    <tr>\n",
       "      <th>1</th>\n",
       "      <td>1.78</td>\n",
       "      <td>5.006944</td>\n",
       "      <td>0.888889</td>\n",
       "      <td>5.006944</td>\n",
       "      <td>0.888889</td>\n",
       "      <td>0.434057</td>\n",
       "      <td>87.122</td>\n",
       "      <td>78.050</td>\n",
       "      <td>87.068414</td>\n",
       "      <td>36.0</td>\n",
       "      <td>...</td>\n",
       "      <td>0.0</td>\n",
       "      <td>0.0</td>\n",
       "      <td>0.0</td>\n",
       "      <td>0.0</td>\n",
       "      <td>0.0</td>\n",
       "      <td>0.0</td>\n",
       "      <td>0.0</td>\n",
       "      <td>0.0</td>\n",
       "      <td>0.0</td>\n",
       "      <td>0.0</td>\n",
       "    </tr>\n",
       "    <tr>\n",
       "      <th>2</th>\n",
       "      <td>1.67</td>\n",
       "      <td>3.263889</td>\n",
       "      <td>1.212963</td>\n",
       "      <td>3.263889</td>\n",
       "      <td>1.212963</td>\n",
       "      <td>0.473722</td>\n",
       "      <td>103.190</td>\n",
       "      <td>94.118</td>\n",
       "      <td>103.045570</td>\n",
       "      <td>36.0</td>\n",
       "      <td>...</td>\n",
       "      <td>1.0</td>\n",
       "      <td>0.0</td>\n",
       "      <td>0.0</td>\n",
       "      <td>0.0</td>\n",
       "      <td>0.0</td>\n",
       "      <td>0.0</td>\n",
       "      <td>0.0</td>\n",
       "      <td>0.0</td>\n",
       "      <td>0.0</td>\n",
       "      <td>0.0</td>\n",
       "    </tr>\n",
       "    <tr>\n",
       "      <th>3</th>\n",
       "      <td>1.10</td>\n",
       "      <td>3.185185</td>\n",
       "      <td>1.166667</td>\n",
       "      <td>3.185185</td>\n",
       "      <td>1.166667</td>\n",
       "      <td>0.457255</td>\n",
       "      <td>89.163</td>\n",
       "      <td>82.107</td>\n",
       "      <td>89.029920</td>\n",
       "      <td>30.0</td>\n",
       "      <td>...</td>\n",
       "      <td>1.0</td>\n",
       "      <td>0.0</td>\n",
       "      <td>0.0</td>\n",
       "      <td>0.0</td>\n",
       "      <td>0.0</td>\n",
       "      <td>0.0</td>\n",
       "      <td>0.0</td>\n",
       "      <td>0.0</td>\n",
       "      <td>0.0</td>\n",
       "      <td>0.0</td>\n",
       "    </tr>\n",
       "    <tr>\n",
       "      <th>4</th>\n",
       "      <td>1.56</td>\n",
       "      <td>5.098194</td>\n",
       "      <td>0.913194</td>\n",
       "      <td>5.098194</td>\n",
       "      <td>0.913194</td>\n",
       "      <td>0.423889</td>\n",
       "      <td>101.149</td>\n",
       "      <td>90.061</td>\n",
       "      <td>101.084064</td>\n",
       "      <td>42.0</td>\n",
       "      <td>...</td>\n",
       "      <td>0.0</td>\n",
       "      <td>0.0</td>\n",
       "      <td>0.0</td>\n",
       "      <td>0.0</td>\n",
       "      <td>0.0</td>\n",
       "      <td>0.0</td>\n",
       "      <td>0.0</td>\n",
       "      <td>0.0</td>\n",
       "      <td>0.0</td>\n",
       "      <td>0.0</td>\n",
       "    </tr>\n",
       "  </tbody>\n",
       "</table>\n",
       "<p>5 rows × 209 columns</p>\n",
       "</div>"
      ],
      "text/plain": [
       "   pK_BHX  MaxEStateIndex  MinEStateIndex  MaxAbsEStateIndex  \\\n",
       "0    0.90       10.605370        0.058426          10.605370   \n",
       "1    1.78        5.006944        0.888889           5.006944   \n",
       "2    1.67        3.263889        1.212963           3.263889   \n",
       "3    1.10        3.185185        1.166667           3.185185   \n",
       "4    1.56        5.098194        0.913194           5.098194   \n",
       "\n",
       "   MinAbsEStateIndex       qed    MolWt  HeavyAtomMolWt  ExactMolWt  \\\n",
       "0           0.058426  0.523744  121.139         114.083  121.052764   \n",
       "1           0.888889  0.434057   87.122          78.050   87.068414   \n",
       "2           1.212963  0.473722  103.190          94.118  103.045570   \n",
       "3           1.166667  0.457255   89.163          82.107   89.029920   \n",
       "4           0.913194  0.423889  101.149          90.061  101.084064   \n",
       "\n",
       "   NumValenceElectrons  ...  fr_sulfide  fr_sulfonamd  fr_sulfone  \\\n",
       "0                 46.0  ...         0.0           0.0         0.0   \n",
       "1                 36.0  ...         0.0           0.0         0.0   \n",
       "2                 36.0  ...         1.0           0.0         0.0   \n",
       "3                 30.0  ...         1.0           0.0         0.0   \n",
       "4                 42.0  ...         0.0           0.0         0.0   \n",
       "\n",
       "   fr_term_acetylene  fr_tetrazole  fr_thiazole  fr_thiocyan  fr_thiophene  \\\n",
       "0                0.0           0.0          0.0          0.0           0.0   \n",
       "1                0.0           0.0          0.0          0.0           0.0   \n",
       "2                0.0           0.0          0.0          0.0           0.0   \n",
       "3                0.0           0.0          0.0          0.0           0.0   \n",
       "4                0.0           0.0          0.0          0.0           0.0   \n",
       "\n",
       "   fr_unbrch_alkane  fr_urea  \n",
       "0               0.0      0.0  \n",
       "1               0.0      0.0  \n",
       "2               0.0      0.0  \n",
       "3               0.0      0.0  \n",
       "4               0.0      0.0  \n",
       "\n",
       "[5 rows x 209 columns]"
      ]
     },
     "execution_count": 101,
     "metadata": {},
     "output_type": "execute_result"
    }
   ],
   "source": [
    "data.head(5)"
   ]
  },
  {
   "cell_type": "code",
   "execution_count": 109,
   "metadata": {},
   "outputs": [],
   "source": [
    "data_y = data['pK_BHX']\n",
    "data_X = data.drop(columns=['pK_BHX'])"
   ]
  },
  {
   "cell_type": "code",
   "execution_count": 116,
   "metadata": {},
   "outputs": [],
   "source": [
    "'''features = []\n",
    "for col in data_X.columns:\n",
    "    features.append(col)'''"
   ]
  },
  {
   "cell_type": "code",
   "execution_count": 11,
   "metadata": {},
   "outputs": [],
   "source": [
    "corr = data.corr()[['pK_BHX']]"
   ]
  },
  {
   "cell_type": "code",
   "execution_count": 15,
   "metadata": {},
   "outputs": [
    {
     "data": {
      "text/html": [
       "<div>\n",
       "<style scoped>\n",
       "    .dataframe tbody tr th:only-of-type {\n",
       "        vertical-align: middle;\n",
       "    }\n",
       "\n",
       "    .dataframe tbody tr th {\n",
       "        vertical-align: top;\n",
       "    }\n",
       "\n",
       "    .dataframe thead th {\n",
       "        text-align: right;\n",
       "    }\n",
       "</style>\n",
       "<table border=\"1\" class=\"dataframe\">\n",
       "  <thead>\n",
       "    <tr style=\"text-align: right;\">\n",
       "      <th></th>\n",
       "      <th>pK_BHX</th>\n",
       "    </tr>\n",
       "  </thead>\n",
       "  <tbody>\n",
       "    <tr>\n",
       "      <th>pK_BHX</th>\n",
       "      <td>1.000000</td>\n",
       "    </tr>\n",
       "    <tr>\n",
       "      <th>MaxEStateIndex</th>\n",
       "      <td>0.241487</td>\n",
       "    </tr>\n",
       "    <tr>\n",
       "      <th>MinEStateIndex</th>\n",
       "      <td>-0.067413</td>\n",
       "    </tr>\n",
       "    <tr>\n",
       "      <th>MaxAbsEStateIndex</th>\n",
       "      <td>0.241487</td>\n",
       "    </tr>\n",
       "    <tr>\n",
       "      <th>MinAbsEStateIndex</th>\n",
       "      <td>-0.108424</td>\n",
       "    </tr>\n",
       "    <tr>\n",
       "      <th>...</th>\n",
       "      <td>...</td>\n",
       "    </tr>\n",
       "    <tr>\n",
       "      <th>fr_thiazole</th>\n",
       "      <td>0.008342</td>\n",
       "    </tr>\n",
       "    <tr>\n",
       "      <th>fr_thiocyan</th>\n",
       "      <td>-0.013305</td>\n",
       "    </tr>\n",
       "    <tr>\n",
       "      <th>fr_thiophene</th>\n",
       "      <td>-0.052665</td>\n",
       "    </tr>\n",
       "    <tr>\n",
       "      <th>fr_unbrch_alkane</th>\n",
       "      <td>0.047319</td>\n",
       "    </tr>\n",
       "    <tr>\n",
       "      <th>fr_urea</th>\n",
       "      <td>0.122927</td>\n",
       "    </tr>\n",
       "  </tbody>\n",
       "</table>\n",
       "<p>209 rows × 1 columns</p>\n",
       "</div>"
      ],
      "text/plain": [
       "                     pK_BHX\n",
       "pK_BHX             1.000000\n",
       "MaxEStateIndex     0.241487\n",
       "MinEStateIndex    -0.067413\n",
       "MaxAbsEStateIndex  0.241487\n",
       "MinAbsEStateIndex -0.108424\n",
       "...                     ...\n",
       "fr_thiazole        0.008342\n",
       "fr_thiocyan       -0.013305\n",
       "fr_thiophene      -0.052665\n",
       "fr_unbrch_alkane   0.047319\n",
       "fr_urea            0.122927\n",
       "\n",
       "[209 rows x 1 columns]"
      ]
     },
     "execution_count": 15,
     "metadata": {},
     "output_type": "execute_result"
    }
   ],
   "source": [
    "corr"
   ]
  },
  {
   "cell_type": "code",
   "execution_count": 49,
   "metadata": {},
   "outputs": [],
   "source": [
    "# Split Data into Training (80%) and Test set (20%)\n",
    "\n",
    "X_train, X_test, y_train, y_test = model_selection.train_test_split(data_X, data_y, test_size=0.2, random_state=0)"
   ]
  },
  {
   "cell_type": "code",
   "execution_count": 51,
   "metadata": {},
   "outputs": [],
   "source": [
    "def rmse(y_true, y_pred):\n",
    "    return mean_squared_error(y_true, y_pred)\n",
    "\n",
    "rmse = make_scorer(rmse, greater_is_better=False)"
   ]
  },
  {
   "cell_type": "code",
   "execution_count": 59,
   "metadata": {},
   "outputs": [
    {
     "data": {
      "application/vnd.jupyter.widget-view+json": {
       "model_id": "97b834391b744a0da7fb13a379c0cbd2",
       "version_major": 2,
       "version_minor": 0
      },
      "text/plain": [
       "Optimization Progress:   0%|          | 0/6 [00:00<?, ?pipeline/s]"
      ]
     },
     "metadata": {},
     "output_type": "display_data"
    },
    {
     "name": "stdout",
     "output_type": "stream",
     "text": [
      "\n",
      "Generation 1 - Current best internal CV score: -0.4182386466835178\n",
      "\n",
      "Generation 2 - Current best internal CV score: -0.25146134931798125\n",
      "\n",
      "Generation 3 - Current best internal CV score: -0.23930337761427783\n",
      "\n",
      "Generation 4 - Current best internal CV score: -0.23930337761427783\n",
      "\n",
      "Generation 5 - Current best internal CV score: -0.23930337761427783\n",
      "\n",
      "Best pipeline: RandomForestRegressor(input_matrix, bootstrap=True, max_features=1.0, min_samples_leaf=5, min_samples_split=17, n_estimators=100)\n",
      "Time executing TPOT (seconds): 33.34491753578186\n"
     ]
    }
   ],
   "source": [
    "t0 = time.time()\n",
    "tpot_classifier = TPOTRegressor(generations=5, population_size=1, scoring=rmse, verbosity=2, random_state=0)\n",
    "tpot_classifier.fit(X_train.values, y_train)\n",
    "ttt = time.time() - t0\n",
    "print(f'Time executing TPOT (seconds): {ttt}')\n",
    "tpot_classifier.export('/pkbhx/data/tpot_exported_pipeline_g5_p1.py')"
   ]
  }
 ],
 "metadata": {
  "kernelspec": {
   "display_name": "base",
   "language": "python",
   "name": "python3"
  },
  "language_info": {
   "codemirror_mode": {
    "name": "ipython",
    "version": 3
   },
   "file_extension": ".py",
   "mimetype": "text/x-python",
   "name": "python",
   "nbconvert_exporter": "python",
   "pygments_lexer": "ipython3",
   "version": "3.9.13"
  },
  "orig_nbformat": 4,
  "vscode": {
   "interpreter": {
    "hash": "ad2bdc8ecc057115af97d19610ffacc2b4e99fae6737bb82f5d7fb13d2f2c186"
   }
  }
 },
 "nbformat": 4,
 "nbformat_minor": 2
}
